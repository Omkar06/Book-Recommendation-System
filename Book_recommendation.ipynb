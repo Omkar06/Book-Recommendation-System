{
  "nbformat": 4,
  "nbformat_minor": 0,
  "metadata": {
    "kernelspec": {
      "display_name": "Python 3",
      "language": "python",
      "name": "python3"
    },
    "language_info": {
      "codemirror_mode": {
        "name": "ipython",
        "version": 3
      },
      "file_extension": ".py",
      "mimetype": "text/x-python",
      "name": "python",
      "nbconvert_exporter": "python",
      "pygments_lexer": "ipython3",
      "version": "3.6.4"
    },
    "colab": {
      "name": "BDA-book-recommendations.ipynb",
      "provenance": [],
      "collapsed_sections": [],
      "toc_visible": true
    }
  },
  "cells": [
    {
      "cell_type": "code",
      "metadata": {
        "_cell_guid": "b1076dfc-b9ad-4769-8c92-a6c4dae69d19",
        "_kg_hide-input": true,
        "_kg_hide-output": true,
        "_uuid": "8f2839f25d086af736a60e9eeb907d3b93b6e0e5",
        "id": "DAJn08TjKZJ2"
      },
      "source": [
        "import numpy as np\n",
        "import pandas as pd\n",
        "\n",
        "import matplotlib.pyplot as plt\n",
        "import seaborn as sns\n",
        "\n",
        "from scipy.sparse import csr_matrix\n",
        "from sklearn.neighbors import NearestNeighbors"
      ],
      "execution_count": null,
      "outputs": []
    },
    {
      "cell_type": "code",
      "metadata": {
        "_kg_hide-input": true,
        "id": "D_yvsjyzKZJ8"
      },
      "source": [
        "# Seaborn advanced settings\n",
        "\n",
        "sns.set(style='ticks',          # 'ticks', 'darkgrid'\n",
        "        palette='colorblind',   # 'colorblind', 'pastel', 'muted', 'bright'\n",
        "        #palette=sns.color_palette('Accent'),   # 'Set1', 'Set2', 'Dark2', 'Accent'\n",
        "        rc = {\n",
        "           'figure.autolayout': True,\n",
        "           'figure.figsize': (14, 8),\n",
        "           'legend.frameon': True,\n",
        "           'patch.linewidth': 2.0,\n",
        "           'lines.markersize': 6,\n",
        "           'lines.linewidth': 2.0,\n",
        "           'font.size': 20,\n",
        "           'legend.fontsize': 20,\n",
        "           'axes.labelsize': 16,\n",
        "           'axes.titlesize': 22,\n",
        "           'axes.grid': True,\n",
        "           'grid.color': '0.9',\n",
        "           'grid.linestyle': '-',\n",
        "           'grid.linewidth': 1.0,\n",
        "           'xtick.labelsize': 20,\n",
        "           'ytick.labelsize': 20,\n",
        "           'xtick.major.size': 8,\n",
        "           'ytick.major.size': 8,\n",
        "           'xtick.major.pad': 10.0,\n",
        "           'ytick.major.pad': 10.0,\n",
        "           }\n",
        "       )\n",
        "\n",
        "plt.rcParams['image.cmap'] = 'viridis'"
      ],
      "execution_count": null,
      "outputs": []
    },
    {
      "cell_type": "code",
      "metadata": {
        "colab": {
          "base_uri": "https://localhost:8080/"
        },
        "id": "Xqv0qXzuLHlG",
        "outputId": "0c2b5a77-6a05-46d8-8410-c0cd241c2654"
      },
      "source": [
        "from google.colab import drive\n",
        "drive.mount('/content/drive')"
      ],
      "execution_count": null,
      "outputs": [
        {
          "output_type": "stream",
          "text": [
            "Mounted at /content/drive\n"
          ],
          "name": "stdout"
        }
      ]
    },
    {
      "cell_type": "code",
      "metadata": {
        "id": "tqmUSSwwLTvY"
      },
      "source": [
        "from google.colab import drive\n",
        "drive.mount('/content/drive')"
      ],
      "execution_count": null,
      "outputs": []
    },
    {
      "cell_type": "markdown",
      "metadata": {
        "id": "rAWEeGH-KZJ9"
      },
      "source": [
        "# Data cleaning\n",
        "\n",
        "- Data in ISO-8859-1\n",
        "    - Detected with chardet (has to be run over bigger sample, after 10000 lines outputs ASCII)\n",
        "    - Transformed to UTF-8 using codecs\n",
        "- Semicolons used as delimiters but original file contains amp; instead of &\n",
        "- Manually fixed few lines with different length\n",
        "- Users dataset contains addresses in format town;state;country, but data are inconsistent, users probably wrote it instead from selecting from a list. It is possible to clean it, but it would take some time so only age is in the cleaned dataset."
      ]
    },
    {
      "cell_type": "code",
      "metadata": {
        "_cell_guid": "79c7e3d0-c299-4dcb-8224-4455121ee9b0",
        "_kg_hide-output": true,
        "_uuid": "d629ff2d2480ee46fbb7e2d37f6b5fab8052498a",
        "colab": {
          "base_uri": "https://localhost:8080/"
        },
        "id": "vdfkZ7BJKZJ-",
        "outputId": "540d1d1f-93b2-4ea2-89e3-77c2d70ef5ff"
      },
      "source": [
        "books = pd.read_csv(\"/content/drive/MyDrive/Books.csv\", sep=\";\")\n",
        "\n",
        "users = pd.read_csv(\"/content/drive/MyDrive/Users.csv\", sep=\";\")\n",
        "\n",
        "ratings = pd.read_csv(\"/content/drive/MyDrive/Ratings.csv\", sep=\";\")"
      ],
      "execution_count": null,
      "outputs": [
        {
          "output_type": "stream",
          "text": [
            "/usr/local/lib/python3.7/dist-packages/IPython/core/interactiveshell.py:2718: DtypeWarning: Columns (0) have mixed types.Specify dtype option on import or set low_memory=False.\n",
            "  interactivity=interactivity, compiler=compiler, result=result)\n"
          ],
          "name": "stderr"
        }
      ]
    },
    {
      "cell_type": "code",
      "metadata": {
        "colab": {
          "base_uri": "https://localhost:8080/",
          "height": 566
        },
        "id": "Ma9CZtyN7Tms",
        "outputId": "451f2596-5b76-4b83-ebfd-f34b8c1bacce"
      },
      "source": [
        "import matplotlib.pyplot as plt\n",
        "print(list(ratings.columns))\n",
        "plt.rc(\"font\", size=15)\n",
        "ratings.Rating.value_counts(sort=False).plot(kind='bar')\n",
        "plt.title('Rating Distribution\\n')\n",
        "plt.xlabel('Rating')\n",
        "plt.ylabel('Count')\n",
        "plt.show()"
      ],
      "execution_count": null,
      "outputs": [
        {
          "output_type": "stream",
          "text": [
            "['User-ID', 'ISBN', 'Rating']\n"
          ],
          "name": "stdout"
        },
        {
          "output_type": "display_data",
          "data": {
            "image/png": "[encoded data removed]",
            "text/plain": [
              "<Figure size 1008x576 with 1 Axes>"
            ]
          },
          "metadata": {
            "tags": []
          }
        }
      ]
    },
    {
      "cell_type": "code",
      "metadata": {
        "id": "CZ7fzSBBKZJ_"
      },
      "source": [
        ""
      ],
      "execution_count": null,
      "outputs": []
    },
    {
      "cell_type": "code",
      "metadata": {
        "_kg_hide-input": true,
        "_kg_hide-output": false,
        "colab": {
          "base_uri": "https://localhost:8080/",
          "height": 204
        },
        "id": "5oS05KHtKZKA",
        "outputId": "1e774162-f7de-455d-af5f-74129a3d2392"
      },
      "source": [
        "books.head()"
      ],
      "execution_count": null,
      "outputs": [
        {
          "output_type": "execute_result",
          "data": {
            "text/html": [
              "<div>\n",
              "<style scoped>\n",
              "    .dataframe tbody tr th:only-of-type {\n",
              "        vertical-align: middle;\n",
              "    }\n",
              "\n",
              "    .dataframe tbody tr th {\n",
              "        vertical-align: top;\n",
              "    }\n",
              "\n",
              "    .dataframe thead th {\n",
              "        text-align: right;\n",
              "    }\n",
              "</style>\n",
              "<table border=\"1\" class=\"dataframe\">\n",
              "  <thead>\n",
              "    <tr style=\"text-align: right;\">\n",
              "      <th></th>\n",
              "      <th>ISBN</th>\n",
              "      <th>Title</th>\n",
              "      <th>Author</th>\n",
              "      <th>Year</th>\n",
              "      <th>Publisher</th>\n",
              "    </tr>\n",
              "  </thead>\n",
              "  <tbody>\n",
              "    <tr>\n",
              "      <th>0</th>\n",
              "      <td>0195153448</td>\n",
              "      <td>Classical Mythology</td>\n",
              "      <td>Mark P. O. Morford</td>\n",
              "      <td>2002</td>\n",
              "      <td>Oxford University Press</td>\n",
              "    </tr>\n",
              "    <tr>\n",
              "      <th>1</th>\n",
              "      <td>0002005018</td>\n",
              "      <td>Clara Callan</td>\n",
              "      <td>Richard Bruce Wright</td>\n",
              "      <td>2001</td>\n",
              "      <td>HarperFlamingo Canada</td>\n",
              "    </tr>\n",
              "    <tr>\n",
              "      <th>2</th>\n",
              "      <td>0060973129</td>\n",
              "      <td>Decision in Normandy</td>\n",
              "      <td>Carlo D'Este</td>\n",
              "      <td>1991</td>\n",
              "      <td>HarperPerennial</td>\n",
              "    </tr>\n",
              "    <tr>\n",
              "      <th>3</th>\n",
              "      <td>0374157065</td>\n",
              "      <td>Flu: The Story of the Great Influenza Pandemic...</td>\n",
              "      <td>Gina Bari Kolata</td>\n",
              "      <td>1999</td>\n",
              "      <td>Farrar Straus Giroux</td>\n",
              "    </tr>\n",
              "    <tr>\n",
              "      <th>4</th>\n",
              "      <td>0393045218</td>\n",
              "      <td>The Mummies of Urumchi</td>\n",
              "      <td>E. J. W. Barber</td>\n",
              "      <td>1999</td>\n",
              "      <td>W. W. Norton &amp; Company</td>\n",
              "    </tr>\n",
              "  </tbody>\n",
              "</table>\n",
              "</div>"
            ],
            "text/plain": [
              "         ISBN  ...                Publisher\n",
              "0  0195153448  ...  Oxford University Press\n",
              "1  0002005018  ...    HarperFlamingo Canada\n",
              "2  0060973129  ...          HarperPerennial\n",
              "3  0374157065  ...     Farrar Straus Giroux\n",
              "4  0393045218  ...   W. W. Norton & Company\n",
              "\n",
              "[5 rows x 5 columns]"
            ]
          },
          "metadata": {
            "tags": []
          },
          "execution_count": 6
        }
      ]
    },
    {
      "cell_type": "code",
      "metadata": {
        "_kg_hide-input": true,
        "_kg_hide-output": false,
        "colab": {
          "base_uri": "https://localhost:8080/",
          "height": 204
        },
        "id": "FeCSXsR9KZKB",
        "outputId": "5281202c-e73c-43a3-e4d5-f44498db9d74"
      },
      "source": [
        "users.head()"
      ],
      "execution_count": null,
      "outputs": [
        {
          "output_type": "execute_result",
          "data": {
            "text/html": [
              "<div>\n",
              "<style scoped>\n",
              "    .dataframe tbody tr th:only-of-type {\n",
              "        vertical-align: middle;\n",
              "    }\n",
              "\n",
              "    .dataframe tbody tr th {\n",
              "        vertical-align: top;\n",
              "    }\n",
              "\n",
              "    .dataframe thead th {\n",
              "        text-align: right;\n",
              "    }\n",
              "</style>\n",
              "<table border=\"1\" class=\"dataframe\">\n",
              "  <thead>\n",
              "    <tr style=\"text-align: right;\">\n",
              "      <th></th>\n",
              "      <th>User-ID</th>\n",
              "      <th>Age</th>\n",
              "    </tr>\n",
              "  </thead>\n",
              "  <tbody>\n",
              "    <tr>\n",
              "      <th>0</th>\n",
              "      <td>1</td>\n",
              "      <td>NaN</td>\n",
              "    </tr>\n",
              "    <tr>\n",
              "      <th>1</th>\n",
              "      <td>2</td>\n",
              "      <td>18</td>\n",
              "    </tr>\n",
              "    <tr>\n",
              "      <th>2</th>\n",
              "      <td>3</td>\n",
              "      <td>NaN</td>\n",
              "    </tr>\n",
              "    <tr>\n",
              "      <th>3</th>\n",
              "      <td>4</td>\n",
              "      <td>17</td>\n",
              "    </tr>\n",
              "    <tr>\n",
              "      <th>4</th>\n",
              "      <td>5</td>\n",
              "      <td>NaN</td>\n",
              "    </tr>\n",
              "  </tbody>\n",
              "</table>\n",
              "</div>"
            ],
            "text/plain": [
              "  User-ID  Age\n",
              "0       1  NaN\n",
              "1       2   18\n",
              "2       3  NaN\n",
              "3       4   17\n",
              "4       5  NaN"
            ]
          },
          "metadata": {
            "tags": []
          },
          "execution_count": 7
        }
      ]
    },
    {
      "cell_type": "code",
      "metadata": {
        "_kg_hide-input": true,
        "_kg_hide-output": false,
        "colab": {
          "base_uri": "https://localhost:8080/",
          "height": 204
        },
        "id": "XwRASietKZKB",
        "outputId": "1d5842fe-915e-4692-a53a-47150cbf32a7"
      },
      "source": [
        "ratings.head()"
      ],
      "execution_count": null,
      "outputs": [
        {
          "output_type": "execute_result",
          "data": {
            "text/html": [
              "<div>\n",
              "<style scoped>\n",
              "    .dataframe tbody tr th:only-of-type {\n",
              "        vertical-align: middle;\n",
              "    }\n",
              "\n",
              "    .dataframe tbody tr th {\n",
              "        vertical-align: top;\n",
              "    }\n",
              "\n",
              "    .dataframe thead th {\n",
              "        text-align: right;\n",
              "    }\n",
              "</style>\n",
              "<table border=\"1\" class=\"dataframe\">\n",
              "  <thead>\n",
              "    <tr style=\"text-align: right;\">\n",
              "      <th></th>\n",
              "      <th>User-ID</th>\n",
              "      <th>ISBN</th>\n",
              "      <th>Rating</th>\n",
              "    </tr>\n",
              "  </thead>\n",
              "  <tbody>\n",
              "    <tr>\n",
              "      <th>0</th>\n",
              "      <td>276725</td>\n",
              "      <td>034545104X</td>\n",
              "      <td>0</td>\n",
              "    </tr>\n",
              "    <tr>\n",
              "      <th>1</th>\n",
              "      <td>276726</td>\n",
              "      <td>0155061224</td>\n",
              "      <td>5</td>\n",
              "    </tr>\n",
              "    <tr>\n",
              "      <th>2</th>\n",
              "      <td>276727</td>\n",
              "      <td>0446520802</td>\n",
              "      <td>0</td>\n",
              "    </tr>\n",
              "    <tr>\n",
              "      <th>3</th>\n",
              "      <td>276729</td>\n",
              "      <td>052165615X</td>\n",
              "      <td>3</td>\n",
              "    </tr>\n",
              "    <tr>\n",
              "      <th>4</th>\n",
              "      <td>276729</td>\n",
              "      <td>0521795028</td>\n",
              "      <td>6</td>\n",
              "    </tr>\n",
              "  </tbody>\n",
              "</table>\n",
              "</div>"
            ],
            "text/plain": [
              "   User-ID        ISBN  Rating\n",
              "0   276725  034545104X       0\n",
              "1   276726  0155061224       5\n",
              "2   276727  0446520802       0\n",
              "3   276729  052165615X       3\n",
              "4   276729  0521795028       6"
            ]
          },
          "metadata": {
            "tags": []
          },
          "execution_count": 8
        }
      ]
    },
    {
      "cell_type": "markdown",
      "metadata": {
        "id": "93xOjbYHKZKC"
      },
      "source": [
        "There are no relevant data about books or users, I will have to use something basic as nearest neighbours, detect the most similar users and recommend books which they read but predicted user did not."
      ]
    },
    {
      "cell_type": "code",
      "metadata": {
        "_kg_hide-output": true,
        "id": "83Nn5p5SKZKC"
      },
      "source": [
        "# Group by and create basic additional users\n",
        "user_groupby = ratings.groupby(\"User-ID\")\n",
        "book_groupby = ratings.groupby(\"ISBN\")\n",
        "average_user_rating = user_groupby[\"Rating\"].mean()\n",
        "number_of_ratings_by_user = user_groupby[\"Rating\"].count()\n",
        "average_book_rating = book_groupby[\"Rating\"].mean()\n",
        "number_of_book_ratings = book_groupby[\"Rating\"].count()\n",
        "\n",
        "average_user_rating.name = \"avg_rating\"\n",
        "number_of_ratings_by_user.name = \"N_ratings\"\n",
        "average_book_rating.name = \"avg_rating\"\n",
        "number_of_book_ratings.name = \"N_ratings\""
      ],
      "execution_count": null,
      "outputs": []
    },
    {
      "cell_type": "code",
      "metadata": {
        "_kg_hide-output": true,
        "id": "liq7Y2nBKZKD"
      },
      "source": [
        "# Merge with original dataframes\n",
        "users = users.join(number_of_ratings_by_user, on=\"User-ID\")\n",
        "users = users.join(average_user_rating, on=\"User-ID\")\n",
        "books = books.join(number_of_book_ratings, on=\"ISBN\")\n",
        "books = books.join(average_book_rating, on=\"ISBN\")\n",
        "\n",
        "users[\"N_ratings\"] = users[\"N_ratings\"].fillna(0)\n",
        "books[\"N_ratings\"] = books[\"N_ratings\"].fillna(0)\n",
        "\n",
        "users[\"N_ratings\"] = users[\"N_ratings\"].astype(\"int64\")\n",
        "books[\"N_ratings\"] = books[\"N_ratings\"].astype(\"int64\")"
      ],
      "execution_count": null,
      "outputs": []
    },
    {
      "cell_type": "markdown",
      "metadata": {
        "id": "41DUsF6_KZKD"
      },
      "source": [
        "# EDA"
      ]
    },
    {
      "cell_type": "code",
      "metadata": {
        "_kg_hide-input": true,
        "colab": {
          "base_uri": "https://localhost:8080/"
        },
        "id": "QRZnhNQAKZKE",
        "outputId": "6bbecfe4-e2c8-47a1-f715-af8f06b8ba23"
      },
      "source": [
        "print(f\"Out of {users.shape[0]} users only {users['N_ratings'].gt(0).sum(axis=0)} rated at least 1 book.\")\n",
        "print(f\"Only {users['N_ratings'].gt(1).sum(axis=0)} rated at least 2 books.\")\n",
        "print(f\"Only {users['N_ratings'].gt(9).sum(axis=0)} rated at least 10 books.\")\n",
        "print(f\"Most active user rated {users['N_ratings'].max()} books.\")\n",
        "print()\n",
        "print(f\"Out of {books.shape[0]} books only {books['N_ratings'].gt(0).sum(axis=0)} are rated at least once.\")\n",
        "print(f\"Only {books['N_ratings'].gt(1).sum(axis=0)} have at least 2 ratings.\")\n",
        "print(f\"Only {books['N_ratings'].gt(9).sum(axis=0)} have at least 10 ratings.\")\n",
        "print(f\"Most rated book was rated {books['N_ratings'].max()} times.\")"
      ],
      "execution_count": null,
      "outputs": [
        {
          "output_type": "stream",
          "text": [
            "Out of 278859 users only 99053 rated at least 1 book.\n",
            "Only 43385 rated at least 2 books.\n",
            "Only 12306 rated at least 10 books.\n",
            "Most active user rated 13602 books.\n",
            "\n",
            "Out of 271379 books only 270171 are rated at least once.\n",
            "Only 124513 have at least 2 ratings.\n",
            "Only 17480 have at least 10 ratings.\n",
            "Most rated book was rated 2502 times.\n"
          ],
          "name": "stdout"
        }
      ]
    },
    {
      "cell_type": "code",
      "metadata": {
        "colab": {
          "base_uri": "https://localhost:8080/",
          "height": 297
        },
        "id": "vk_8WlgcKZKE",
        "outputId": "a10740bd-304b-4de2-c62b-83384b69893d"
      },
      "source": [
        "users[users[\"N_ratings\"].gt(0)].describe()"
      ],
      "execution_count": null,
      "outputs": [
        {
          "output_type": "execute_result",
          "data": {
            "text/html": [
              "<div>\n",
              "<style scoped>\n",
              "    .dataframe tbody tr th:only-of-type {\n",
              "        vertical-align: middle;\n",
              "    }\n",
              "\n",
              "    .dataframe tbody tr th {\n",
              "        vertical-align: top;\n",
              "    }\n",
              "\n",
              "    .dataframe thead th {\n",
              "        text-align: right;\n",
              "    }\n",
              "</style>\n",
              "<table border=\"1\" class=\"dataframe\">\n",
              "  <thead>\n",
              "    <tr style=\"text-align: right;\">\n",
              "      <th></th>\n",
              "      <th>N_ratings</th>\n",
              "      <th>avg_rating</th>\n",
              "    </tr>\n",
              "  </thead>\n",
              "  <tbody>\n",
              "    <tr>\n",
              "      <th>count</th>\n",
              "      <td>99053.000000</td>\n",
              "      <td>99053.000000</td>\n",
              "    </tr>\n",
              "    <tr>\n",
              "      <th>mean</th>\n",
              "      <td>10.935479</td>\n",
              "      <td>4.393597</td>\n",
              "    </tr>\n",
              "    <tr>\n",
              "      <th>std</th>\n",
              "      <td>91.056053</td>\n",
              "      <td>3.411184</td>\n",
              "    </tr>\n",
              "    <tr>\n",
              "      <th>min</th>\n",
              "      <td>1.000000</td>\n",
              "      <td>0.000000</td>\n",
              "    </tr>\n",
              "    <tr>\n",
              "      <th>25%</th>\n",
              "      <td>1.000000</td>\n",
              "      <td>0.000000</td>\n",
              "    </tr>\n",
              "    <tr>\n",
              "      <th>50%</th>\n",
              "      <td>1.000000</td>\n",
              "      <td>4.600000</td>\n",
              "    </tr>\n",
              "    <tr>\n",
              "      <th>75%</th>\n",
              "      <td>4.000000</td>\n",
              "      <td>7.500000</td>\n",
              "    </tr>\n",
              "    <tr>\n",
              "      <th>max</th>\n",
              "      <td>13602.000000</td>\n",
              "      <td>10.000000</td>\n",
              "    </tr>\n",
              "  </tbody>\n",
              "</table>\n",
              "</div>"
            ],
            "text/plain": [
              "          N_ratings    avg_rating\n",
              "count  99053.000000  99053.000000\n",
              "mean      10.935479      4.393597\n",
              "std       91.056053      3.411184\n",
              "min        1.000000      0.000000\n",
              "25%        1.000000      0.000000\n",
              "50%        1.000000      4.600000\n",
              "75%        4.000000      7.500000\n",
              "max    13602.000000     10.000000"
            ]
          },
          "metadata": {
            "tags": []
          },
          "execution_count": 12
        }
      ]
    },
    {
      "cell_type": "markdown",
      "metadata": {
        "id": "QQ9yA4imKZKF"
      },
      "source": [
        "The most popular book series ever (info from Goodreads) is Harry Potter. The first book in the series is [the most rated book](https://www.goodreads.com/list/show/35080.One_Million_Ratings_) (with 6.1 million ratings) and the last book is almost the book with [the best average rating](https://www.goodreads.com/list/show/10198.Books_With_a_Goodreads_Average_Rating_of_4_5_or_higher_and_With_At_Least_100_Ratings) (4.62 out of 5; you can find better up to 4.75, but not with two millions of ratings).\n",
        "\n",
        "Lets see what are the most popular books and how does Harry Potter stand out."
      ]
    },
    {
      "cell_type": "code",
      "metadata": {
        "colab": {
          "base_uri": "https://localhost:8080/",
          "height": 80
        },
        "id": "---ofJ-FKZKG",
        "outputId": "3a6ec110-f9da-448b-bf03-f9d604962f0f"
      },
      "source": [
        "# Get the most rated book in the dataset\n",
        "books[books[\"N_ratings\"] == books[\"N_ratings\"].max()]"
      ],
      "execution_count": null,
      "outputs": [
        {
          "output_type": "execute_result",
          "data": {
            "text/html": [
              "<div>\n",
              "<style scoped>\n",
              "    .dataframe tbody tr th:only-of-type {\n",
              "        vertical-align: middle;\n",
              "    }\n",
              "\n",
              "    .dataframe tbody tr th {\n",
              "        vertical-align: top;\n",
              "    }\n",
              "\n",
              "    .dataframe thead th {\n",
              "        text-align: right;\n",
              "    }\n",
              "</style>\n",
              "<table border=\"1\" class=\"dataframe\">\n",
              "  <thead>\n",
              "    <tr style=\"text-align: right;\">\n",
              "      <th></th>\n",
              "      <th>ISBN</th>\n",
              "      <th>Title</th>\n",
              "      <th>Author</th>\n",
              "      <th>Year</th>\n",
              "      <th>Publisher</th>\n",
              "      <th>N_ratings</th>\n",
              "      <th>avg_rating</th>\n",
              "    </tr>\n",
              "  </thead>\n",
              "  <tbody>\n",
              "    <tr>\n",
              "      <th>26</th>\n",
              "      <td>0971880107</td>\n",
              "      <td>Wild Animus</td>\n",
              "      <td>Rich Shapero</td>\n",
              "      <td>2004</td>\n",
              "      <td>Too Far</td>\n",
              "      <td>2502</td>\n",
              "      <td>1.019584</td>\n",
              "    </tr>\n",
              "  </tbody>\n",
              "</table>\n",
              "</div>"
            ],
            "text/plain": [
              "          ISBN        Title        Author  ...  Publisher N_ratings  avg_rating\n",
              "26  0971880107  Wild Animus  Rich Shapero  ...    Too Far      2502    1.019584\n",
              "\n",
              "[1 rows x 7 columns]"
            ]
          },
          "metadata": {
            "tags": []
          },
          "execution_count": 13
        }
      ]
    },
    {
      "cell_type": "markdown",
      "metadata": {
        "id": "pMqKEtFYKZKG"
      },
      "source": [
        "With average rating 1 out of 10 (where 0 is minimum), there is probably a reason why we have never heard of Wild Animus by Rich Chapero."
      ]
    },
    {
      "cell_type": "code",
      "metadata": {
        "colab": {
          "base_uri": "https://localhost:8080/",
          "height": 924
        },
        "id": "2RS31bC-KZKG",
        "outputId": "842bb2d9-3238-4ec9-9994-cf30ff1f9e73"
      },
      "source": [
        "# Get top 20 best rated books in our dataset\n",
        "books.loc[books[\"N_ratings\"] > 20].sort_values(by=\"avg_rating\", ascending=False).head(20)"
      ],
      "execution_count": null,
      "outputs": [
        {
          "output_type": "execute_result",
          "data": {
            "text/html": [
              "<div>\n",
              "<style scoped>\n",
              "    .dataframe tbody tr th:only-of-type {\n",
              "        vertical-align: middle;\n",
              "    }\n",
              "\n",
              "    .dataframe tbody tr th {\n",
              "        vertical-align: top;\n",
              "    }\n",
              "\n",
              "    .dataframe thead th {\n",
              "        text-align: right;\n",
              "    }\n",
              "</style>\n",
              "<table border=\"1\" class=\"dataframe\">\n",
              "  <thead>\n",
              "    <tr style=\"text-align: right;\">\n",
              "      <th></th>\n",
              "      <th>ISBN</th>\n",
              "      <th>Title</th>\n",
              "      <th>Author</th>\n",
              "      <th>Year</th>\n",
              "      <th>Publisher</th>\n",
              "      <th>N_ratings</th>\n",
              "      <th>avg_rating</th>\n",
              "    </tr>\n",
              "  </thead>\n",
              "  <tbody>\n",
              "    <tr>\n",
              "      <th>3028</th>\n",
              "      <td>1844262553</td>\n",
              "      <td>Free</td>\n",
              "      <td>Paul Vincent</td>\n",
              "      <td>2003</td>\n",
              "      <td>Upfront Publishing</td>\n",
              "      <td>54</td>\n",
              "      <td>7.962963</td>\n",
              "    </tr>\n",
              "    <tr>\n",
              "      <th>27557</th>\n",
              "      <td>8445071416</td>\n",
              "      <td>El Hobbit</td>\n",
              "      <td>J. R. R. Tolkien</td>\n",
              "      <td>1991</td>\n",
              "      <td>Minotauro</td>\n",
              "      <td>23</td>\n",
              "      <td>7.478261</td>\n",
              "    </tr>\n",
              "    <tr>\n",
              "      <th>1101</th>\n",
              "      <td>0060256672</td>\n",
              "      <td>Where the Sidewalk Ends : Poems and Drawings</td>\n",
              "      <td>Shel Silverstein</td>\n",
              "      <td>1974</td>\n",
              "      <td>HarperCollins</td>\n",
              "      <td>33</td>\n",
              "      <td>7.121212</td>\n",
              "    </tr>\n",
              "    <tr>\n",
              "      <th>16191</th>\n",
              "      <td>0060248025</td>\n",
              "      <td>Falling Up</td>\n",
              "      <td>Shel Silverstein</td>\n",
              "      <td>1996</td>\n",
              "      <td>HarperCollins</td>\n",
              "      <td>38</td>\n",
              "      <td>6.921053</td>\n",
              "    </tr>\n",
              "    <tr>\n",
              "      <th>1763</th>\n",
              "      <td>0395177111</td>\n",
              "      <td>The Hobbit (Leatherette Collector's Edition)</td>\n",
              "      <td>J. R. R. Tolkien</td>\n",
              "      <td>1973</td>\n",
              "      <td>Houghton Mifflin Company</td>\n",
              "      <td>24</td>\n",
              "      <td>6.791667</td>\n",
              "    </tr>\n",
              "    <tr>\n",
              "      <th>10288</th>\n",
              "      <td>0553274325</td>\n",
              "      <td>Johnny Got His Gun</td>\n",
              "      <td>Dalton Trumbo</td>\n",
              "      <td>1983</td>\n",
              "      <td>Bantam Books</td>\n",
              "      <td>32</td>\n",
              "      <td>6.750000</td>\n",
              "    </tr>\n",
              "    <tr>\n",
              "      <th>15179</th>\n",
              "      <td>0836221362</td>\n",
              "      <td>It's A Magical World: A Calvin and Hobbes Coll...</td>\n",
              "      <td>Bill Watterson</td>\n",
              "      <td>1996</td>\n",
              "      <td>Andrews McMeel Publishing</td>\n",
              "      <td>28</td>\n",
              "      <td>6.642857</td>\n",
              "    </tr>\n",
              "    <tr>\n",
              "      <th>5432</th>\n",
              "      <td>0439064864</td>\n",
              "      <td>Harry Potter and the Chamber of Secrets (Book 2)</td>\n",
              "      <td>J. K. Rowling</td>\n",
              "      <td>1999</td>\n",
              "      <td>Scholastic</td>\n",
              "      <td>170</td>\n",
              "      <td>6.611765</td>\n",
              "    </tr>\n",
              "    <tr>\n",
              "      <th>5431</th>\n",
              "      <td>0439139597</td>\n",
              "      <td>Harry Potter and the Goblet of Fire (Book 4)</td>\n",
              "      <td>J. K. Rowling</td>\n",
              "      <td>2000</td>\n",
              "      <td>Scholastic</td>\n",
              "      <td>194</td>\n",
              "      <td>6.541237</td>\n",
              "    </tr>\n",
              "    <tr>\n",
              "      <th>21546</th>\n",
              "      <td>1563890119</td>\n",
              "      <td>Preludes and Nocturnes (Sandman, Book 1)</td>\n",
              "      <td>Neil Gaiman</td>\n",
              "      <td>1993</td>\n",
              "      <td>DC Comics</td>\n",
              "      <td>27</td>\n",
              "      <td>6.481481</td>\n",
              "    </tr>\n",
              "    <tr>\n",
              "      <th>3839</th>\n",
              "      <td>0439136350</td>\n",
              "      <td>Harry Potter and the Prisoner of Azkaban (Book 3)</td>\n",
              "      <td>J. K. Rowling</td>\n",
              "      <td>1999</td>\n",
              "      <td>Scholastic</td>\n",
              "      <td>197</td>\n",
              "      <td>6.467005</td>\n",
              "    </tr>\n",
              "    <tr>\n",
              "      <th>4466</th>\n",
              "      <td>0920668372</td>\n",
              "      <td>Love You Forever</td>\n",
              "      <td>Robert N. Munsch</td>\n",
              "      <td>1986</td>\n",
              "      <td>Firefly Books Ltd</td>\n",
              "      <td>36</td>\n",
              "      <td>6.444444</td>\n",
              "    </tr>\n",
              "    <tr>\n",
              "      <th>2809</th>\n",
              "      <td>0590353403</td>\n",
              "      <td>Harry Potter and the Sorcerer's Stone (Book 1)</td>\n",
              "      <td>J. K. Rowling</td>\n",
              "      <td>1998</td>\n",
              "      <td>Scholastic</td>\n",
              "      <td>168</td>\n",
              "      <td>6.363095</td>\n",
              "    </tr>\n",
              "    <tr>\n",
              "      <th>1397</th>\n",
              "      <td>0345458915</td>\n",
              "      <td>The Sinner</td>\n",
              "      <td>TESS GERRITSEN</td>\n",
              "      <td>2003</td>\n",
              "      <td>Ballantine Books</td>\n",
              "      <td>27</td>\n",
              "      <td>6.333333</td>\n",
              "    </tr>\n",
              "    <tr>\n",
              "      <th>12763</th>\n",
              "      <td>0618002235</td>\n",
              "      <td>The Two Towers (The Lord of the Rings, Part 2)</td>\n",
              "      <td>J. R. R. Tolkien</td>\n",
              "      <td>1999</td>\n",
              "      <td>Houghton Mifflin Company</td>\n",
              "      <td>39</td>\n",
              "      <td>6.230769</td>\n",
              "    </tr>\n",
              "    <tr>\n",
              "      <th>24292</th>\n",
              "      <td>0064471063</td>\n",
              "      <td>The Horse and His Boy</td>\n",
              "      <td>C. S. Lewis</td>\n",
              "      <td>1994</td>\n",
              "      <td>HarperCollins</td>\n",
              "      <td>37</td>\n",
              "      <td>6.216216</td>\n",
              "    </tr>\n",
              "    <tr>\n",
              "      <th>12764</th>\n",
              "      <td>0618002227</td>\n",
              "      <td>The Fellowship of the Ring (The Lord of the Ri...</td>\n",
              "      <td>J. R. R. Tolkien</td>\n",
              "      <td>1999</td>\n",
              "      <td>Houghton Mifflin Company</td>\n",
              "      <td>63</td>\n",
              "      <td>6.206349</td>\n",
              "    </tr>\n",
              "    <tr>\n",
              "      <th>3357</th>\n",
              "      <td>0385199570</td>\n",
              "      <td>The Stand (The Complete and Uncut Edition)</td>\n",
              "      <td>Stephen King</td>\n",
              "      <td>1990</td>\n",
              "      <td>Doubleday Books</td>\n",
              "      <td>57</td>\n",
              "      <td>6.175439</td>\n",
              "    </tr>\n",
              "    <tr>\n",
              "      <th>3365</th>\n",
              "      <td>0374332657</td>\n",
              "      <td>Holes (Newbery Medal Book)</td>\n",
              "      <td>Louis Sachar</td>\n",
              "      <td>1998</td>\n",
              "      <td>Farrar, Straus and Giroux (BYR)</td>\n",
              "      <td>24</td>\n",
              "      <td>6.166667</td>\n",
              "    </tr>\n",
              "    <tr>\n",
              "      <th>7758</th>\n",
              "      <td>0061057649</td>\n",
              "      <td>Feet of Clay (Discworld Novels (Paperback))</td>\n",
              "      <td>Terry Pratchett</td>\n",
              "      <td>1997</td>\n",
              "      <td>HarperTorch</td>\n",
              "      <td>27</td>\n",
              "      <td>6.148148</td>\n",
              "    </tr>\n",
              "  </tbody>\n",
              "</table>\n",
              "</div>"
            ],
            "text/plain": [
              "             ISBN  ... avg_rating\n",
              "3028   1844262553  ...   7.962963\n",
              "27557  8445071416  ...   7.478261\n",
              "1101   0060256672  ...   7.121212\n",
              "16191  0060248025  ...   6.921053\n",
              "1763   0395177111  ...   6.791667\n",
              "10288  0553274325  ...   6.750000\n",
              "15179  0836221362  ...   6.642857\n",
              "5432   0439064864  ...   6.611765\n",
              "5431   0439139597  ...   6.541237\n",
              "21546  1563890119  ...   6.481481\n",
              "3839   0439136350  ...   6.467005\n",
              "4466   0920668372  ...   6.444444\n",
              "2809   0590353403  ...   6.363095\n",
              "1397   0345458915  ...   6.333333\n",
              "12763  0618002235  ...   6.230769\n",
              "24292  0064471063  ...   6.216216\n",
              "12764  0618002227  ...   6.206349\n",
              "3357   0385199570  ...   6.175439\n",
              "3365   0374332657  ...   6.166667\n",
              "7758   0061057649  ...   6.148148\n",
              "\n",
              "[20 rows x 7 columns]"
            ]
          },
          "metadata": {
            "tags": []
          },
          "execution_count": 14
        }
      ]
    },
    {
      "cell_type": "markdown",
      "metadata": {
        "id": "bGww1CHtKZKH"
      },
      "source": [
        "[Free by Paul Vincent](https://www.goodreads.com/book/show/8580970-free), the book with the highest average rating is almost unknown on Goodreads (with only 24 ratings and average rating 3.29 out of 5). Shel Silverstein's books are poetry for children.\n",
        "\n",
        "The proof that the dataset is correlated with real world data is that Harry Potter books, Hobbit, Narnia, Discworld and King's and Gaiman's books place in top twenty books. This is what I would expect if there were much more data as everybody at least heard those names."
      ]
    },
    {
      "cell_type": "markdown",
      "metadata": {
        "id": "reX6E13GKZKH"
      },
      "source": [
        "However, there is a problem. We do not have ratings for books but for editions of books. That means that if we now make a model for recommending books, it will recommend editions instead of books. Without another database linking Edition with ISBN, we can not see, what is really the most favourite book, how many times it was rated etc. (and these seem as important features to me).\n",
        "\n",
        "Maybe, recommending editions instead of books will not be that bad, as people probably did not read all the editions of Harry Potter and the Sorcerer's Stone. I would guess they read only a single edition of every book in the series, so there will be some distance between users. Plus, if somebody read the spanish edition, it is possible that the model will recommend spanish edition as well. We will see.\n",
        "\n",
        "Next, just check how many Harry Potter books there are:"
      ]
    },
    {
      "cell_type": "code",
      "metadata": {
        "colab": {
          "base_uri": "https://localhost:8080/",
          "height": 555
        },
        "id": "hQStr2mFKZKI",
        "outputId": "f479e9cd-3642-447f-af20-a5fd458310f7"
      },
      "source": [
        "# Get all Harry Potter books and editions written by Rowling\n",
        "books[books[\"Title\"].str.contains(\"Harry Potter\") & books[\"Author\"].str.contains(\"Rowling\")]"
      ],
      "execution_count": null,
      "outputs": [
        {
          "output_type": "execute_result",
          "data": {
            "text/html": [
              "<div>\n",
              "<style scoped>\n",
              "    .dataframe tbody tr th:only-of-type {\n",
              "        vertical-align: middle;\n",
              "    }\n",
              "\n",
              "    .dataframe tbody tr th {\n",
              "        vertical-align: top;\n",
              "    }\n",
              "\n",
              "    .dataframe thead th {\n",
              "        text-align: right;\n",
              "    }\n",
              "</style>\n",
              "<table border=\"1\" class=\"dataframe\">\n",
              "  <thead>\n",
              "    <tr style=\"text-align: right;\">\n",
              "      <th></th>\n",
              "      <th>ISBN</th>\n",
              "      <th>Title</th>\n",
              "      <th>Author</th>\n",
              "      <th>Year</th>\n",
              "      <th>Publisher</th>\n",
              "      <th>N_ratings</th>\n",
              "      <th>avg_rating</th>\n",
              "    </tr>\n",
              "  </thead>\n",
              "  <tbody>\n",
              "    <tr>\n",
              "      <th>2143</th>\n",
              "      <td>059035342X</td>\n",
              "      <td>Harry Potter and the Sorcerer's Stone (Harry P...</td>\n",
              "      <td>J. K. Rowling</td>\n",
              "      <td>1999</td>\n",
              "      <td>Arthur A. Levine Books</td>\n",
              "      <td>571</td>\n",
              "      <td>4.900175</td>\n",
              "    </tr>\n",
              "    <tr>\n",
              "      <th>2809</th>\n",
              "      <td>0590353403</td>\n",
              "      <td>Harry Potter and the Sorcerer's Stone (Book 1)</td>\n",
              "      <td>J. K. Rowling</td>\n",
              "      <td>1998</td>\n",
              "      <td>Scholastic</td>\n",
              "      <td>168</td>\n",
              "      <td>6.363095</td>\n",
              "    </tr>\n",
              "    <tr>\n",
              "      <th>3459</th>\n",
              "      <td>0439064872</td>\n",
              "      <td>Harry Potter and the Chamber of Secrets (Book 2)</td>\n",
              "      <td>J. K. Rowling</td>\n",
              "      <td>2000</td>\n",
              "      <td>Scholastic</td>\n",
              "      <td>351</td>\n",
              "      <td>4.729345</td>\n",
              "    </tr>\n",
              "    <tr>\n",
              "      <th>3839</th>\n",
              "      <td>0439136350</td>\n",
              "      <td>Harry Potter and the Prisoner of Azkaban (Book 3)</td>\n",
              "      <td>J. K. Rowling</td>\n",
              "      <td>1999</td>\n",
              "      <td>Scholastic</td>\n",
              "      <td>197</td>\n",
              "      <td>6.467005</td>\n",
              "    </tr>\n",
              "    <tr>\n",
              "      <th>5431</th>\n",
              "      <td>0439139597</td>\n",
              "      <td>Harry Potter and the Goblet of Fire (Book 4)</td>\n",
              "      <td>J. K. Rowling</td>\n",
              "      <td>2000</td>\n",
              "      <td>Scholastic</td>\n",
              "      <td>194</td>\n",
              "      <td>6.541237</td>\n",
              "    </tr>\n",
              "    <tr>\n",
              "      <th>...</th>\n",
              "      <td>...</td>\n",
              "      <td>...</td>\n",
              "      <td>...</td>\n",
              "      <td>...</td>\n",
              "      <td>...</td>\n",
              "      <td>...</td>\n",
              "      <td>...</td>\n",
              "    </tr>\n",
              "    <tr>\n",
              "      <th>234626</th>\n",
              "      <td>0439294827</td>\n",
              "      <td>Harry Potter and the Sorcerer's Stone: A Delux...</td>\n",
              "      <td>J. K. Rowling</td>\n",
              "      <td>2001</td>\n",
              "      <td>Scholastic</td>\n",
              "      <td>2</td>\n",
              "      <td>9.000000</td>\n",
              "    </tr>\n",
              "    <tr>\n",
              "      <th>237878</th>\n",
              "      <td>3895849618</td>\n",
              "      <td>Harry Potter und der Gefangene von Askaban. So...</td>\n",
              "      <td>Joanne K. Rowling</td>\n",
              "      <td>2002</td>\n",
              "      <td>Dhv der HÃ¶rverlag</td>\n",
              "      <td>1</td>\n",
              "      <td>7.000000</td>\n",
              "    </tr>\n",
              "    <tr>\n",
              "      <th>251249</th>\n",
              "      <td>847888663X</td>\n",
              "      <td>Harry Potter y El Caliz de Fuego</td>\n",
              "      <td>J. K. Rowling</td>\n",
              "      <td>2001</td>\n",
              "      <td>Lidiun</td>\n",
              "      <td>0</td>\n",
              "      <td>NaN</td>\n",
              "    </tr>\n",
              "    <tr>\n",
              "      <th>257280</th>\n",
              "      <td>043955490X</td>\n",
              "      <td>Harry Potter and the Goblet of Fire (Harry Pot...</td>\n",
              "      <td>J. K. Rowling</td>\n",
              "      <td>2003</td>\n",
              "      <td>Arthur A. Levine Books</td>\n",
              "      <td>1</td>\n",
              "      <td>10.000000</td>\n",
              "    </tr>\n",
              "    <tr>\n",
              "      <th>259628</th>\n",
              "      <td>0939173344</td>\n",
              "      <td>Harry Potter and the Sorcerer's Stone</td>\n",
              "      <td>J.K. Rowling</td>\n",
              "      <td>1999</td>\n",
              "      <td>National Braille Press, Inc.</td>\n",
              "      <td>1</td>\n",
              "      <td>0.000000</td>\n",
              "    </tr>\n",
              "  </tbody>\n",
              "</table>\n",
              "<p>90 rows × 7 columns</p>\n",
              "</div>"
            ],
            "text/plain": [
              "              ISBN  ... avg_rating\n",
              "2143    059035342X  ...   4.900175\n",
              "2809    0590353403  ...   6.363095\n",
              "3459    0439064872  ...   4.729345\n",
              "3839    0439136350  ...   6.467005\n",
              "5431    0439139597  ...   6.541237\n",
              "...            ...  ...        ...\n",
              "234626  0439294827  ...   9.000000\n",
              "237878  3895849618  ...   7.000000\n",
              "251249  847888663X  ...        NaN\n",
              "257280  043955490X  ...  10.000000\n",
              "259628  0939173344  ...   0.000000\n",
              "\n",
              "[90 rows x 7 columns]"
            ]
          },
          "metadata": {
            "tags": []
          },
          "execution_count": 15
        }
      ]
    },
    {
      "cell_type": "markdown",
      "metadata": {
        "id": "m-EqOf34KZKI"
      },
      "source": [
        "Ninety editions of heptalogy. There is also a lot different inputs in Author column like: \"J. K. Rowling\", \"Joanne K. Rowling\", \"J.K.Rowling\", \"Rowling J K\" and we do not have a database connecting all different names of a single author."
      ]
    },
    {
      "cell_type": "markdown",
      "metadata": {
        "id": "NLz9LcrqKZKJ"
      },
      "source": [
        "# KNN model - recommend similar book\n",
        "\n",
        "Find the most similar book (using user-recommendation vectors) and recommend it."
      ]
    },
    {
      "cell_type": "code",
      "metadata": {
        "id": "kMud3oWtKZKJ"
      },
      "source": [
        "ratings[\"Rating\"] = ratings[\"Rating\"].astype(\"int8\")"
      ],
      "execution_count": null,
      "outputs": []
    },
    {
      "cell_type": "code",
      "metadata": {
        "colab": {
          "base_uri": "https://localhost:8080/"
        },
        "id": "KLGQsW5-KZKJ",
        "outputId": "91c2f7e1-539a-415d-f52c-35c0f7c8a810"
      },
      "source": [
        "print(ratings)"
      ],
      "execution_count": null,
      "outputs": [
        {
          "output_type": "stream",
          "text": [
            "         User-ID         ISBN  Rating\n",
            "0         276725   034545104X       0\n",
            "1         276726   0155061224       5\n",
            "2         276727   0446520802       0\n",
            "3         276729   052165615X       3\n",
            "4         276729   0521795028       6\n",
            "...          ...          ...     ...\n",
            "1149775   276704   1563526298       9\n",
            "1149776   276706   0679447156       0\n",
            "1149777   276709   0515107662      10\n",
            "1149778   276721   0590442449      10\n",
            "1149779   276723  05162443314       8\n",
            "\n",
            "[1149780 rows x 3 columns]\n"
          ],
          "name": "stdout"
        }
      ]
    },
    {
      "cell_type": "code",
      "metadata": {
        "id": "mvIrcp6zKZKJ"
      },
      "source": [
        "pd_matrix = pd.merge(books.loc[books[\"N_ratings\"] > 20, \"ISBN\"], ratings).drop_duplicates()\n"
      ],
      "execution_count": null,
      "outputs": []
    },
    {
      "cell_type": "code",
      "metadata": {
        "_kg_hide-output": true,
        "colab": {
          "base_uri": "https://localhost:8080/",
          "height": 419
        },
        "id": "L3r2IbrUKZKK",
        "outputId": "50074282-a03f-48b3-c33f-79498c74f054"
      },
      "source": [
        "pd_matrix"
      ],
      "execution_count": null,
      "outputs": [
        {
          "output_type": "execute_result",
          "data": {
            "text/html": [
              "<div>\n",
              "<style scoped>\n",
              "    .dataframe tbody tr th:only-of-type {\n",
              "        vertical-align: middle;\n",
              "    }\n",
              "\n",
              "    .dataframe tbody tr th {\n",
              "        vertical-align: top;\n",
              "    }\n",
              "\n",
              "    .dataframe thead th {\n",
              "        text-align: right;\n",
              "    }\n",
              "</style>\n",
              "<table border=\"1\" class=\"dataframe\">\n",
              "  <thead>\n",
              "    <tr style=\"text-align: right;\">\n",
              "      <th></th>\n",
              "      <th>ISBN</th>\n",
              "      <th>User-ID</th>\n",
              "      <th>Rating</th>\n",
              "    </tr>\n",
              "  </thead>\n",
              "  <tbody>\n",
              "    <tr>\n",
              "      <th>0</th>\n",
              "      <td>0399135782</td>\n",
              "      <td>8</td>\n",
              "      <td>0</td>\n",
              "    </tr>\n",
              "    <tr>\n",
              "      <th>1</th>\n",
              "      <td>0399135782</td>\n",
              "      <td>11676</td>\n",
              "      <td>9</td>\n",
              "    </tr>\n",
              "    <tr>\n",
              "      <th>2</th>\n",
              "      <td>0399135782</td>\n",
              "      <td>29526</td>\n",
              "      <td>9</td>\n",
              "    </tr>\n",
              "    <tr>\n",
              "      <th>3</th>\n",
              "      <td>0399135782</td>\n",
              "      <td>36836</td>\n",
              "      <td>0</td>\n",
              "    </tr>\n",
              "    <tr>\n",
              "      <th>4</th>\n",
              "      <td>0399135782</td>\n",
              "      <td>46398</td>\n",
              "      <td>9</td>\n",
              "    </tr>\n",
              "    <tr>\n",
              "      <th>...</th>\n",
              "      <td>...</td>\n",
              "      <td>...</td>\n",
              "      <td>...</td>\n",
              "    </tr>\n",
              "    <tr>\n",
              "      <th>377631</th>\n",
              "      <td>0152012397</td>\n",
              "      <td>240700</td>\n",
              "      <td>7</td>\n",
              "    </tr>\n",
              "    <tr>\n",
              "      <th>377632</th>\n",
              "      <td>0152012397</td>\n",
              "      <td>241078</td>\n",
              "      <td>8</td>\n",
              "    </tr>\n",
              "    <tr>\n",
              "      <th>377633</th>\n",
              "      <td>0152012397</td>\n",
              "      <td>256167</td>\n",
              "      <td>8</td>\n",
              "    </tr>\n",
              "    <tr>\n",
              "      <th>377634</th>\n",
              "      <td>0152012397</td>\n",
              "      <td>259286</td>\n",
              "      <td>8</td>\n",
              "    </tr>\n",
              "    <tr>\n",
              "      <th>377635</th>\n",
              "      <td>0152012397</td>\n",
              "      <td>259629</td>\n",
              "      <td>0</td>\n",
              "    </tr>\n",
              "  </tbody>\n",
              "</table>\n",
              "<p>377636 rows × 3 columns</p>\n",
              "</div>"
            ],
            "text/plain": [
              "              ISBN  User-ID  Rating\n",
              "0       0399135782        8       0\n",
              "1       0399135782    11676       9\n",
              "2       0399135782    29526       9\n",
              "3       0399135782    36836       0\n",
              "4       0399135782    46398       9\n",
              "...            ...      ...     ...\n",
              "377631  0152012397   240700       7\n",
              "377632  0152012397   241078       8\n",
              "377633  0152012397   256167       8\n",
              "377634  0152012397   259286       8\n",
              "377635  0152012397   259629       0\n",
              "\n",
              "[377636 rows x 3 columns]"
            ]
          },
          "metadata": {
            "tags": []
          },
          "execution_count": 19
        }
      ]
    },
    {
      "cell_type": "code",
      "metadata": {
        "id": "q4BIvz_UKZKK"
      },
      "source": [
        "# Reshape so that ISBN is row index, User-ID is column index and values are ratings\n",
        "pd_matrix = pd_matrix.pivot(index='ISBN', columns='User-ID', values='Rating').fillna(0).astype(\"int8\")"
      ],
      "execution_count": null,
      "outputs": []
    },
    {
      "cell_type": "code",
      "metadata": {
        "_kg_hide-output": true,
        "colab": {
          "base_uri": "https://localhost:8080/",
          "height": 470
        },
        "id": "wJs4-quvKZKL",
        "outputId": "1e33902e-1f5c-4dd6-ad2d-bd46755f71f0"
      },
      "source": [
        "pd_matrix"
      ],
      "execution_count": null,
      "outputs": [
        {
          "output_type": "execute_result",
          "data": {
            "text/html": [
              "<div>\n",
              "<style scoped>\n",
              "    .dataframe tbody tr th:only-of-type {\n",
              "        vertical-align: middle;\n",
              "    }\n",
              "\n",
              "    .dataframe tbody tr th {\n",
              "        vertical-align: top;\n",
              "    }\n",
              "\n",
              "    .dataframe thead th {\n",
              "        text-align: right;\n",
              "    }\n",
              "</style>\n",
              "<table border=\"1\" class=\"dataframe\">\n",
              "  <thead>\n",
              "    <tr style=\"text-align: right;\">\n",
              "      <th>User-ID</th>\n",
              "      <th>8</th>\n",
              "      <th>9</th>\n",
              "      <th>10</th>\n",
              "      <th>14</th>\n",
              "      <th>16</th>\n",
              "      <th>17</th>\n",
              "      <th>19</th>\n",
              "      <th>26</th>\n",
              "      <th>32</th>\n",
              "      <th>39</th>\n",
              "      <th>42</th>\n",
              "      <th>44</th>\n",
              "      <th>51</th>\n",
              "      <th>53</th>\n",
              "      <th>56</th>\n",
              "      <th>67</th>\n",
              "      <th>69</th>\n",
              "      <th>75</th>\n",
              "      <th>77</th>\n",
              "      <th>78</th>\n",
              "      <th>81</th>\n",
              "      <th>91</th>\n",
              "      <th>95</th>\n",
              "      <th>97</th>\n",
              "      <th>99</th>\n",
              "      <th>114</th>\n",
              "      <th>125</th>\n",
              "      <th>129</th>\n",
              "      <th>132</th>\n",
              "      <th>133</th>\n",
              "      <th>135</th>\n",
              "      <th>144</th>\n",
              "      <th>165</th>\n",
              "      <th>169</th>\n",
              "      <th>176</th>\n",
              "      <th>178</th>\n",
              "      <th>185</th>\n",
              "      <th>193</th>\n",
              "      <th>199</th>\n",
              "      <th>207</th>\n",
              "      <th>...</th>\n",
              "      <th>278663</th>\n",
              "      <th>278672</th>\n",
              "      <th>278683</th>\n",
              "      <th>278692</th>\n",
              "      <th>278694</th>\n",
              "      <th>278698</th>\n",
              "      <th>278723</th>\n",
              "      <th>278724</th>\n",
              "      <th>278732</th>\n",
              "      <th>278740</th>\n",
              "      <th>278755</th>\n",
              "      <th>278760</th>\n",
              "      <th>278767</th>\n",
              "      <th>278769</th>\n",
              "      <th>278771</th>\n",
              "      <th>278773</th>\n",
              "      <th>278774</th>\n",
              "      <th>278781</th>\n",
              "      <th>278782</th>\n",
              "      <th>278784</th>\n",
              "      <th>278786</th>\n",
              "      <th>278796</th>\n",
              "      <th>278798</th>\n",
              "      <th>278800</th>\n",
              "      <th>278807</th>\n",
              "      <th>278813</th>\n",
              "      <th>278818</th>\n",
              "      <th>278819</th>\n",
              "      <th>278824</th>\n",
              "      <th>278828</th>\n",
              "      <th>278831</th>\n",
              "      <th>278832</th>\n",
              "      <th>278836</th>\n",
              "      <th>278838</th>\n",
              "      <th>278843</th>\n",
              "      <th>278844</th>\n",
              "      <th>278846</th>\n",
              "      <th>278849</th>\n",
              "      <th>278851</th>\n",
              "      <th>278854</th>\n",
              "    </tr>\n",
              "    <tr>\n",
              "      <th>ISBN</th>\n",
              "      <th></th>\n",
              "      <th></th>\n",
              "      <th></th>\n",
              "      <th></th>\n",
              "      <th></th>\n",
              "      <th></th>\n",
              "      <th></th>\n",
              "      <th></th>\n",
              "      <th></th>\n",
              "      <th></th>\n",
              "      <th></th>\n",
              "      <th></th>\n",
              "      <th></th>\n",
              "      <th></th>\n",
              "      <th></th>\n",
              "      <th></th>\n",
              "      <th></th>\n",
              "      <th></th>\n",
              "      <th></th>\n",
              "      <th></th>\n",
              "      <th></th>\n",
              "      <th></th>\n",
              "      <th></th>\n",
              "      <th></th>\n",
              "      <th></th>\n",
              "      <th></th>\n",
              "      <th></th>\n",
              "      <th></th>\n",
              "      <th></th>\n",
              "      <th></th>\n",
              "      <th></th>\n",
              "      <th></th>\n",
              "      <th></th>\n",
              "      <th></th>\n",
              "      <th></th>\n",
              "      <th></th>\n",
              "      <th></th>\n",
              "      <th></th>\n",
              "      <th></th>\n",
              "      <th></th>\n",
              "      <th></th>\n",
              "      <th></th>\n",
              "      <th></th>\n",
              "      <th></th>\n",
              "      <th></th>\n",
              "      <th></th>\n",
              "      <th></th>\n",
              "      <th></th>\n",
              "      <th></th>\n",
              "      <th></th>\n",
              "      <th></th>\n",
              "      <th></th>\n",
              "      <th></th>\n",
              "      <th></th>\n",
              "      <th></th>\n",
              "      <th></th>\n",
              "      <th></th>\n",
              "      <th></th>\n",
              "      <th></th>\n",
              "      <th></th>\n",
              "      <th></th>\n",
              "      <th></th>\n",
              "      <th></th>\n",
              "      <th></th>\n",
              "      <th></th>\n",
              "      <th></th>\n",
              "      <th></th>\n",
              "      <th></th>\n",
              "      <th></th>\n",
              "      <th></th>\n",
              "      <th></th>\n",
              "      <th></th>\n",
              "      <th></th>\n",
              "      <th></th>\n",
              "      <th></th>\n",
              "      <th></th>\n",
              "      <th></th>\n",
              "      <th></th>\n",
              "      <th></th>\n",
              "      <th></th>\n",
              "      <th></th>\n",
              "    </tr>\n",
              "  </thead>\n",
              "  <tbody>\n",
              "    <tr>\n",
              "      <th>000649840X</th>\n",
              "      <td>0</td>\n",
              "      <td>0</td>\n",
              "      <td>0</td>\n",
              "      <td>0</td>\n",
              "      <td>0</td>\n",
              "      <td>0</td>\n",
              "      <td>0</td>\n",
              "      <td>0</td>\n",
              "      <td>0</td>\n",
              "      <td>0</td>\n",
              "      <td>0</td>\n",
              "      <td>0</td>\n",
              "      <td>0</td>\n",
              "      <td>0</td>\n",
              "      <td>0</td>\n",
              "      <td>0</td>\n",
              "      <td>0</td>\n",
              "      <td>0</td>\n",
              "      <td>0</td>\n",
              "      <td>0</td>\n",
              "      <td>0</td>\n",
              "      <td>0</td>\n",
              "      <td>0</td>\n",
              "      <td>0</td>\n",
              "      <td>0</td>\n",
              "      <td>0</td>\n",
              "      <td>0</td>\n",
              "      <td>0</td>\n",
              "      <td>0</td>\n",
              "      <td>0</td>\n",
              "      <td>0</td>\n",
              "      <td>0</td>\n",
              "      <td>0</td>\n",
              "      <td>0</td>\n",
              "      <td>0</td>\n",
              "      <td>0</td>\n",
              "      <td>0</td>\n",
              "      <td>0</td>\n",
              "      <td>0</td>\n",
              "      <td>0</td>\n",
              "      <td>...</td>\n",
              "      <td>0</td>\n",
              "      <td>0</td>\n",
              "      <td>0</td>\n",
              "      <td>0</td>\n",
              "      <td>0</td>\n",
              "      <td>0</td>\n",
              "      <td>0</td>\n",
              "      <td>0</td>\n",
              "      <td>0</td>\n",
              "      <td>0</td>\n",
              "      <td>0</td>\n",
              "      <td>0</td>\n",
              "      <td>0</td>\n",
              "      <td>0</td>\n",
              "      <td>0</td>\n",
              "      <td>0</td>\n",
              "      <td>0</td>\n",
              "      <td>0</td>\n",
              "      <td>0</td>\n",
              "      <td>0</td>\n",
              "      <td>0</td>\n",
              "      <td>0</td>\n",
              "      <td>0</td>\n",
              "      <td>0</td>\n",
              "      <td>0</td>\n",
              "      <td>0</td>\n",
              "      <td>0</td>\n",
              "      <td>0</td>\n",
              "      <td>0</td>\n",
              "      <td>0</td>\n",
              "      <td>0</td>\n",
              "      <td>0</td>\n",
              "      <td>0</td>\n",
              "      <td>0</td>\n",
              "      <td>0</td>\n",
              "      <td>0</td>\n",
              "      <td>0</td>\n",
              "      <td>0</td>\n",
              "      <td>0</td>\n",
              "      <td>0</td>\n",
              "    </tr>\n",
              "    <tr>\n",
              "      <th>0006547834</th>\n",
              "      <td>0</td>\n",
              "      <td>0</td>\n",
              "      <td>0</td>\n",
              "      <td>0</td>\n",
              "      <td>0</td>\n",
              "      <td>0</td>\n",
              "      <td>0</td>\n",
              "      <td>0</td>\n",
              "      <td>0</td>\n",
              "      <td>0</td>\n",
              "      <td>0</td>\n",
              "      <td>0</td>\n",
              "      <td>0</td>\n",
              "      <td>0</td>\n",
              "      <td>0</td>\n",
              "      <td>0</td>\n",
              "      <td>0</td>\n",
              "      <td>0</td>\n",
              "      <td>0</td>\n",
              "      <td>0</td>\n",
              "      <td>0</td>\n",
              "      <td>0</td>\n",
              "      <td>0</td>\n",
              "      <td>0</td>\n",
              "      <td>0</td>\n",
              "      <td>0</td>\n",
              "      <td>0</td>\n",
              "      <td>0</td>\n",
              "      <td>0</td>\n",
              "      <td>0</td>\n",
              "      <td>0</td>\n",
              "      <td>0</td>\n",
              "      <td>0</td>\n",
              "      <td>0</td>\n",
              "      <td>0</td>\n",
              "      <td>0</td>\n",
              "      <td>0</td>\n",
              "      <td>0</td>\n",
              "      <td>0</td>\n",
              "      <td>0</td>\n",
              "      <td>...</td>\n",
              "      <td>0</td>\n",
              "      <td>0</td>\n",
              "      <td>0</td>\n",
              "      <td>0</td>\n",
              "      <td>0</td>\n",
              "      <td>0</td>\n",
              "      <td>0</td>\n",
              "      <td>0</td>\n",
              "      <td>0</td>\n",
              "      <td>0</td>\n",
              "      <td>0</td>\n",
              "      <td>0</td>\n",
              "      <td>0</td>\n",
              "      <td>0</td>\n",
              "      <td>0</td>\n",
              "      <td>0</td>\n",
              "      <td>0</td>\n",
              "      <td>0</td>\n",
              "      <td>0</td>\n",
              "      <td>0</td>\n",
              "      <td>0</td>\n",
              "      <td>0</td>\n",
              "      <td>0</td>\n",
              "      <td>0</td>\n",
              "      <td>0</td>\n",
              "      <td>0</td>\n",
              "      <td>0</td>\n",
              "      <td>0</td>\n",
              "      <td>0</td>\n",
              "      <td>0</td>\n",
              "      <td>0</td>\n",
              "      <td>0</td>\n",
              "      <td>0</td>\n",
              "      <td>0</td>\n",
              "      <td>0</td>\n",
              "      <td>0</td>\n",
              "      <td>0</td>\n",
              "      <td>0</td>\n",
              "      <td>0</td>\n",
              "      <td>0</td>\n",
              "    </tr>\n",
              "    <tr>\n",
              "      <th>0006550576</th>\n",
              "      <td>0</td>\n",
              "      <td>0</td>\n",
              "      <td>0</td>\n",
              "      <td>0</td>\n",
              "      <td>0</td>\n",
              "      <td>0</td>\n",
              "      <td>0</td>\n",
              "      <td>0</td>\n",
              "      <td>0</td>\n",
              "      <td>0</td>\n",
              "      <td>0</td>\n",
              "      <td>0</td>\n",
              "      <td>0</td>\n",
              "      <td>0</td>\n",
              "      <td>0</td>\n",
              "      <td>0</td>\n",
              "      <td>0</td>\n",
              "      <td>0</td>\n",
              "      <td>0</td>\n",
              "      <td>0</td>\n",
              "      <td>0</td>\n",
              "      <td>0</td>\n",
              "      <td>0</td>\n",
              "      <td>0</td>\n",
              "      <td>0</td>\n",
              "      <td>0</td>\n",
              "      <td>0</td>\n",
              "      <td>0</td>\n",
              "      <td>0</td>\n",
              "      <td>0</td>\n",
              "      <td>0</td>\n",
              "      <td>0</td>\n",
              "      <td>0</td>\n",
              "      <td>0</td>\n",
              "      <td>0</td>\n",
              "      <td>0</td>\n",
              "      <td>0</td>\n",
              "      <td>0</td>\n",
              "      <td>0</td>\n",
              "      <td>0</td>\n",
              "      <td>...</td>\n",
              "      <td>0</td>\n",
              "      <td>0</td>\n",
              "      <td>0</td>\n",
              "      <td>0</td>\n",
              "      <td>0</td>\n",
              "      <td>0</td>\n",
              "      <td>0</td>\n",
              "      <td>0</td>\n",
              "      <td>0</td>\n",
              "      <td>0</td>\n",
              "      <td>0</td>\n",
              "      <td>0</td>\n",
              "      <td>0</td>\n",
              "      <td>0</td>\n",
              "      <td>0</td>\n",
              "      <td>0</td>\n",
              "      <td>0</td>\n",
              "      <td>0</td>\n",
              "      <td>0</td>\n",
              "      <td>0</td>\n",
              "      <td>0</td>\n",
              "      <td>0</td>\n",
              "      <td>0</td>\n",
              "      <td>0</td>\n",
              "      <td>0</td>\n",
              "      <td>0</td>\n",
              "      <td>0</td>\n",
              "      <td>0</td>\n",
              "      <td>0</td>\n",
              "      <td>0</td>\n",
              "      <td>0</td>\n",
              "      <td>0</td>\n",
              "      <td>0</td>\n",
              "      <td>0</td>\n",
              "      <td>0</td>\n",
              "      <td>0</td>\n",
              "      <td>0</td>\n",
              "      <td>0</td>\n",
              "      <td>0</td>\n",
              "      <td>0</td>\n",
              "    </tr>\n",
              "    <tr>\n",
              "      <th>0006550789</th>\n",
              "      <td>0</td>\n",
              "      <td>0</td>\n",
              "      <td>0</td>\n",
              "      <td>0</td>\n",
              "      <td>0</td>\n",
              "      <td>0</td>\n",
              "      <td>0</td>\n",
              "      <td>0</td>\n",
              "      <td>0</td>\n",
              "      <td>0</td>\n",
              "      <td>0</td>\n",
              "      <td>0</td>\n",
              "      <td>0</td>\n",
              "      <td>0</td>\n",
              "      <td>0</td>\n",
              "      <td>0</td>\n",
              "      <td>0</td>\n",
              "      <td>0</td>\n",
              "      <td>0</td>\n",
              "      <td>0</td>\n",
              "      <td>0</td>\n",
              "      <td>0</td>\n",
              "      <td>0</td>\n",
              "      <td>0</td>\n",
              "      <td>0</td>\n",
              "      <td>0</td>\n",
              "      <td>0</td>\n",
              "      <td>0</td>\n",
              "      <td>0</td>\n",
              "      <td>0</td>\n",
              "      <td>0</td>\n",
              "      <td>0</td>\n",
              "      <td>0</td>\n",
              "      <td>0</td>\n",
              "      <td>0</td>\n",
              "      <td>0</td>\n",
              "      <td>0</td>\n",
              "      <td>0</td>\n",
              "      <td>0</td>\n",
              "      <td>0</td>\n",
              "      <td>...</td>\n",
              "      <td>0</td>\n",
              "      <td>0</td>\n",
              "      <td>0</td>\n",
              "      <td>0</td>\n",
              "      <td>0</td>\n",
              "      <td>0</td>\n",
              "      <td>0</td>\n",
              "      <td>0</td>\n",
              "      <td>0</td>\n",
              "      <td>0</td>\n",
              "      <td>0</td>\n",
              "      <td>0</td>\n",
              "      <td>0</td>\n",
              "      <td>0</td>\n",
              "      <td>0</td>\n",
              "      <td>0</td>\n",
              "      <td>0</td>\n",
              "      <td>0</td>\n",
              "      <td>0</td>\n",
              "      <td>0</td>\n",
              "      <td>0</td>\n",
              "      <td>0</td>\n",
              "      <td>0</td>\n",
              "      <td>0</td>\n",
              "      <td>0</td>\n",
              "      <td>0</td>\n",
              "      <td>0</td>\n",
              "      <td>0</td>\n",
              "      <td>0</td>\n",
              "      <td>0</td>\n",
              "      <td>0</td>\n",
              "      <td>0</td>\n",
              "      <td>0</td>\n",
              "      <td>0</td>\n",
              "      <td>0</td>\n",
              "      <td>0</td>\n",
              "      <td>0</td>\n",
              "      <td>0</td>\n",
              "      <td>0</td>\n",
              "      <td>0</td>\n",
              "    </tr>\n",
              "    <tr>\n",
              "      <th>0007110928</th>\n",
              "      <td>0</td>\n",
              "      <td>0</td>\n",
              "      <td>0</td>\n",
              "      <td>0</td>\n",
              "      <td>0</td>\n",
              "      <td>0</td>\n",
              "      <td>0</td>\n",
              "      <td>0</td>\n",
              "      <td>0</td>\n",
              "      <td>0</td>\n",
              "      <td>0</td>\n",
              "      <td>0</td>\n",
              "      <td>0</td>\n",
              "      <td>0</td>\n",
              "      <td>0</td>\n",
              "      <td>0</td>\n",
              "      <td>0</td>\n",
              "      <td>0</td>\n",
              "      <td>0</td>\n",
              "      <td>0</td>\n",
              "      <td>0</td>\n",
              "      <td>0</td>\n",
              "      <td>0</td>\n",
              "      <td>0</td>\n",
              "      <td>0</td>\n",
              "      <td>0</td>\n",
              "      <td>0</td>\n",
              "      <td>0</td>\n",
              "      <td>0</td>\n",
              "      <td>0</td>\n",
              "      <td>0</td>\n",
              "      <td>0</td>\n",
              "      <td>0</td>\n",
              "      <td>0</td>\n",
              "      <td>0</td>\n",
              "      <td>0</td>\n",
              "      <td>0</td>\n",
              "      <td>0</td>\n",
              "      <td>0</td>\n",
              "      <td>0</td>\n",
              "      <td>...</td>\n",
              "      <td>0</td>\n",
              "      <td>0</td>\n",
              "      <td>0</td>\n",
              "      <td>0</td>\n",
              "      <td>0</td>\n",
              "      <td>0</td>\n",
              "      <td>0</td>\n",
              "      <td>0</td>\n",
              "      <td>0</td>\n",
              "      <td>0</td>\n",
              "      <td>0</td>\n",
              "      <td>0</td>\n",
              "      <td>0</td>\n",
              "      <td>0</td>\n",
              "      <td>0</td>\n",
              "      <td>0</td>\n",
              "      <td>0</td>\n",
              "      <td>0</td>\n",
              "      <td>0</td>\n",
              "      <td>0</td>\n",
              "      <td>0</td>\n",
              "      <td>0</td>\n",
              "      <td>0</td>\n",
              "      <td>0</td>\n",
              "      <td>0</td>\n",
              "      <td>0</td>\n",
              "      <td>0</td>\n",
              "      <td>0</td>\n",
              "      <td>0</td>\n",
              "      <td>0</td>\n",
              "      <td>0</td>\n",
              "      <td>0</td>\n",
              "      <td>0</td>\n",
              "      <td>0</td>\n",
              "      <td>0</td>\n",
              "      <td>0</td>\n",
              "      <td>0</td>\n",
              "      <td>0</td>\n",
              "      <td>0</td>\n",
              "      <td>0</td>\n",
              "    </tr>\n",
              "    <tr>\n",
              "      <th>...</th>\n",
              "      <td>...</td>\n",
              "      <td>...</td>\n",
              "      <td>...</td>\n",
              "      <td>...</td>\n",
              "      <td>...</td>\n",
              "      <td>...</td>\n",
              "      <td>...</td>\n",
              "      <td>...</td>\n",
              "      <td>...</td>\n",
              "      <td>...</td>\n",
              "      <td>...</td>\n",
              "      <td>...</td>\n",
              "      <td>...</td>\n",
              "      <td>...</td>\n",
              "      <td>...</td>\n",
              "      <td>...</td>\n",
              "      <td>...</td>\n",
              "      <td>...</td>\n",
              "      <td>...</td>\n",
              "      <td>...</td>\n",
              "      <td>...</td>\n",
              "      <td>...</td>\n",
              "      <td>...</td>\n",
              "      <td>...</td>\n",
              "      <td>...</td>\n",
              "      <td>...</td>\n",
              "      <td>...</td>\n",
              "      <td>...</td>\n",
              "      <td>...</td>\n",
              "      <td>...</td>\n",
              "      <td>...</td>\n",
              "      <td>...</td>\n",
              "      <td>...</td>\n",
              "      <td>...</td>\n",
              "      <td>...</td>\n",
              "      <td>...</td>\n",
              "      <td>...</td>\n",
              "      <td>...</td>\n",
              "      <td>...</td>\n",
              "      <td>...</td>\n",
              "      <td>...</td>\n",
              "      <td>...</td>\n",
              "      <td>...</td>\n",
              "      <td>...</td>\n",
              "      <td>...</td>\n",
              "      <td>...</td>\n",
              "      <td>...</td>\n",
              "      <td>...</td>\n",
              "      <td>...</td>\n",
              "      <td>...</td>\n",
              "      <td>...</td>\n",
              "      <td>...</td>\n",
              "      <td>...</td>\n",
              "      <td>...</td>\n",
              "      <td>...</td>\n",
              "      <td>...</td>\n",
              "      <td>...</td>\n",
              "      <td>...</td>\n",
              "      <td>...</td>\n",
              "      <td>...</td>\n",
              "      <td>...</td>\n",
              "      <td>...</td>\n",
              "      <td>...</td>\n",
              "      <td>...</td>\n",
              "      <td>...</td>\n",
              "      <td>...</td>\n",
              "      <td>...</td>\n",
              "      <td>...</td>\n",
              "      <td>...</td>\n",
              "      <td>...</td>\n",
              "      <td>...</td>\n",
              "      <td>...</td>\n",
              "      <td>...</td>\n",
              "      <td>...</td>\n",
              "      <td>...</td>\n",
              "      <td>...</td>\n",
              "      <td>...</td>\n",
              "      <td>...</td>\n",
              "      <td>...</td>\n",
              "      <td>...</td>\n",
              "      <td>...</td>\n",
              "    </tr>\n",
              "    <tr>\n",
              "      <th>8845205118</th>\n",
              "      <td>0</td>\n",
              "      <td>0</td>\n",
              "      <td>0</td>\n",
              "      <td>0</td>\n",
              "      <td>0</td>\n",
              "      <td>0</td>\n",
              "      <td>0</td>\n",
              "      <td>0</td>\n",
              "      <td>0</td>\n",
              "      <td>0</td>\n",
              "      <td>0</td>\n",
              "      <td>0</td>\n",
              "      <td>0</td>\n",
              "      <td>0</td>\n",
              "      <td>0</td>\n",
              "      <td>0</td>\n",
              "      <td>0</td>\n",
              "      <td>0</td>\n",
              "      <td>0</td>\n",
              "      <td>0</td>\n",
              "      <td>0</td>\n",
              "      <td>0</td>\n",
              "      <td>0</td>\n",
              "      <td>0</td>\n",
              "      <td>0</td>\n",
              "      <td>0</td>\n",
              "      <td>0</td>\n",
              "      <td>0</td>\n",
              "      <td>0</td>\n",
              "      <td>0</td>\n",
              "      <td>0</td>\n",
              "      <td>0</td>\n",
              "      <td>0</td>\n",
              "      <td>0</td>\n",
              "      <td>0</td>\n",
              "      <td>0</td>\n",
              "      <td>0</td>\n",
              "      <td>0</td>\n",
              "      <td>0</td>\n",
              "      <td>0</td>\n",
              "      <td>...</td>\n",
              "      <td>0</td>\n",
              "      <td>0</td>\n",
              "      <td>0</td>\n",
              "      <td>0</td>\n",
              "      <td>0</td>\n",
              "      <td>0</td>\n",
              "      <td>0</td>\n",
              "      <td>0</td>\n",
              "      <td>0</td>\n",
              "      <td>0</td>\n",
              "      <td>0</td>\n",
              "      <td>0</td>\n",
              "      <td>0</td>\n",
              "      <td>0</td>\n",
              "      <td>0</td>\n",
              "      <td>0</td>\n",
              "      <td>0</td>\n",
              "      <td>0</td>\n",
              "      <td>0</td>\n",
              "      <td>0</td>\n",
              "      <td>0</td>\n",
              "      <td>0</td>\n",
              "      <td>0</td>\n",
              "      <td>0</td>\n",
              "      <td>0</td>\n",
              "      <td>0</td>\n",
              "      <td>0</td>\n",
              "      <td>0</td>\n",
              "      <td>0</td>\n",
              "      <td>0</td>\n",
              "      <td>0</td>\n",
              "      <td>0</td>\n",
              "      <td>0</td>\n",
              "      <td>0</td>\n",
              "      <td>0</td>\n",
              "      <td>0</td>\n",
              "      <td>0</td>\n",
              "      <td>0</td>\n",
              "      <td>0</td>\n",
              "      <td>0</td>\n",
              "    </tr>\n",
              "    <tr>\n",
              "      <th>8845247414</th>\n",
              "      <td>0</td>\n",
              "      <td>0</td>\n",
              "      <td>0</td>\n",
              "      <td>0</td>\n",
              "      <td>0</td>\n",
              "      <td>0</td>\n",
              "      <td>0</td>\n",
              "      <td>0</td>\n",
              "      <td>0</td>\n",
              "      <td>0</td>\n",
              "      <td>0</td>\n",
              "      <td>0</td>\n",
              "      <td>0</td>\n",
              "      <td>0</td>\n",
              "      <td>0</td>\n",
              "      <td>0</td>\n",
              "      <td>0</td>\n",
              "      <td>0</td>\n",
              "      <td>0</td>\n",
              "      <td>0</td>\n",
              "      <td>0</td>\n",
              "      <td>0</td>\n",
              "      <td>0</td>\n",
              "      <td>0</td>\n",
              "      <td>0</td>\n",
              "      <td>0</td>\n",
              "      <td>0</td>\n",
              "      <td>0</td>\n",
              "      <td>0</td>\n",
              "      <td>0</td>\n",
              "      <td>0</td>\n",
              "      <td>0</td>\n",
              "      <td>0</td>\n",
              "      <td>0</td>\n",
              "      <td>0</td>\n",
              "      <td>0</td>\n",
              "      <td>0</td>\n",
              "      <td>0</td>\n",
              "      <td>0</td>\n",
              "      <td>0</td>\n",
              "      <td>...</td>\n",
              "      <td>0</td>\n",
              "      <td>0</td>\n",
              "      <td>0</td>\n",
              "      <td>0</td>\n",
              "      <td>0</td>\n",
              "      <td>0</td>\n",
              "      <td>0</td>\n",
              "      <td>0</td>\n",
              "      <td>0</td>\n",
              "      <td>0</td>\n",
              "      <td>0</td>\n",
              "      <td>0</td>\n",
              "      <td>0</td>\n",
              "      <td>0</td>\n",
              "      <td>0</td>\n",
              "      <td>0</td>\n",
              "      <td>0</td>\n",
              "      <td>0</td>\n",
              "      <td>0</td>\n",
              "      <td>0</td>\n",
              "      <td>0</td>\n",
              "      <td>0</td>\n",
              "      <td>0</td>\n",
              "      <td>0</td>\n",
              "      <td>0</td>\n",
              "      <td>0</td>\n",
              "      <td>0</td>\n",
              "      <td>0</td>\n",
              "      <td>0</td>\n",
              "      <td>0</td>\n",
              "      <td>0</td>\n",
              "      <td>0</td>\n",
              "      <td>0</td>\n",
              "      <td>0</td>\n",
              "      <td>0</td>\n",
              "      <td>0</td>\n",
              "      <td>0</td>\n",
              "      <td>0</td>\n",
              "      <td>0</td>\n",
              "      <td>0</td>\n",
              "    </tr>\n",
              "    <tr>\n",
              "      <th>884590184X</th>\n",
              "      <td>0</td>\n",
              "      <td>0</td>\n",
              "      <td>0</td>\n",
              "      <td>0</td>\n",
              "      <td>0</td>\n",
              "      <td>0</td>\n",
              "      <td>0</td>\n",
              "      <td>0</td>\n",
              "      <td>0</td>\n",
              "      <td>0</td>\n",
              "      <td>0</td>\n",
              "      <td>0</td>\n",
              "      <td>0</td>\n",
              "      <td>0</td>\n",
              "      <td>0</td>\n",
              "      <td>0</td>\n",
              "      <td>0</td>\n",
              "      <td>0</td>\n",
              "      <td>0</td>\n",
              "      <td>0</td>\n",
              "      <td>0</td>\n",
              "      <td>0</td>\n",
              "      <td>0</td>\n",
              "      <td>0</td>\n",
              "      <td>0</td>\n",
              "      <td>0</td>\n",
              "      <td>0</td>\n",
              "      <td>0</td>\n",
              "      <td>0</td>\n",
              "      <td>0</td>\n",
              "      <td>0</td>\n",
              "      <td>0</td>\n",
              "      <td>0</td>\n",
              "      <td>0</td>\n",
              "      <td>0</td>\n",
              "      <td>0</td>\n",
              "      <td>0</td>\n",
              "      <td>0</td>\n",
              "      <td>0</td>\n",
              "      <td>0</td>\n",
              "      <td>...</td>\n",
              "      <td>0</td>\n",
              "      <td>0</td>\n",
              "      <td>0</td>\n",
              "      <td>0</td>\n",
              "      <td>0</td>\n",
              "      <td>0</td>\n",
              "      <td>0</td>\n",
              "      <td>0</td>\n",
              "      <td>0</td>\n",
              "      <td>0</td>\n",
              "      <td>0</td>\n",
              "      <td>0</td>\n",
              "      <td>0</td>\n",
              "      <td>0</td>\n",
              "      <td>0</td>\n",
              "      <td>0</td>\n",
              "      <td>0</td>\n",
              "      <td>0</td>\n",
              "      <td>0</td>\n",
              "      <td>0</td>\n",
              "      <td>0</td>\n",
              "      <td>0</td>\n",
              "      <td>0</td>\n",
              "      <td>0</td>\n",
              "      <td>0</td>\n",
              "      <td>0</td>\n",
              "      <td>0</td>\n",
              "      <td>0</td>\n",
              "      <td>0</td>\n",
              "      <td>0</td>\n",
              "      <td>0</td>\n",
              "      <td>0</td>\n",
              "      <td>0</td>\n",
              "      <td>0</td>\n",
              "      <td>0</td>\n",
              "      <td>0</td>\n",
              "      <td>0</td>\n",
              "      <td>0</td>\n",
              "      <td>0</td>\n",
              "      <td>0</td>\n",
              "    </tr>\n",
              "    <tr>\n",
              "      <th>8885989403</th>\n",
              "      <td>0</td>\n",
              "      <td>0</td>\n",
              "      <td>0</td>\n",
              "      <td>0</td>\n",
              "      <td>0</td>\n",
              "      <td>0</td>\n",
              "      <td>0</td>\n",
              "      <td>0</td>\n",
              "      <td>0</td>\n",
              "      <td>0</td>\n",
              "      <td>0</td>\n",
              "      <td>0</td>\n",
              "      <td>0</td>\n",
              "      <td>0</td>\n",
              "      <td>0</td>\n",
              "      <td>0</td>\n",
              "      <td>0</td>\n",
              "      <td>0</td>\n",
              "      <td>0</td>\n",
              "      <td>0</td>\n",
              "      <td>0</td>\n",
              "      <td>0</td>\n",
              "      <td>0</td>\n",
              "      <td>0</td>\n",
              "      <td>0</td>\n",
              "      <td>0</td>\n",
              "      <td>0</td>\n",
              "      <td>0</td>\n",
              "      <td>0</td>\n",
              "      <td>0</td>\n",
              "      <td>0</td>\n",
              "      <td>0</td>\n",
              "      <td>0</td>\n",
              "      <td>0</td>\n",
              "      <td>0</td>\n",
              "      <td>0</td>\n",
              "      <td>0</td>\n",
              "      <td>0</td>\n",
              "      <td>0</td>\n",
              "      <td>0</td>\n",
              "      <td>...</td>\n",
              "      <td>0</td>\n",
              "      <td>0</td>\n",
              "      <td>0</td>\n",
              "      <td>0</td>\n",
              "      <td>0</td>\n",
              "      <td>0</td>\n",
              "      <td>0</td>\n",
              "      <td>0</td>\n",
              "      <td>0</td>\n",
              "      <td>0</td>\n",
              "      <td>0</td>\n",
              "      <td>0</td>\n",
              "      <td>0</td>\n",
              "      <td>0</td>\n",
              "      <td>0</td>\n",
              "      <td>0</td>\n",
              "      <td>0</td>\n",
              "      <td>0</td>\n",
              "      <td>0</td>\n",
              "      <td>0</td>\n",
              "      <td>0</td>\n",
              "      <td>0</td>\n",
              "      <td>0</td>\n",
              "      <td>0</td>\n",
              "      <td>0</td>\n",
              "      <td>0</td>\n",
              "      <td>0</td>\n",
              "      <td>0</td>\n",
              "      <td>0</td>\n",
              "      <td>0</td>\n",
              "      <td>0</td>\n",
              "      <td>0</td>\n",
              "      <td>0</td>\n",
              "      <td>0</td>\n",
              "      <td>0</td>\n",
              "      <td>0</td>\n",
              "      <td>0</td>\n",
              "      <td>0</td>\n",
              "      <td>0</td>\n",
              "      <td>0</td>\n",
              "    </tr>\n",
              "    <tr>\n",
              "      <th>950491036X</th>\n",
              "      <td>0</td>\n",
              "      <td>0</td>\n",
              "      <td>0</td>\n",
              "      <td>0</td>\n",
              "      <td>0</td>\n",
              "      <td>0</td>\n",
              "      <td>0</td>\n",
              "      <td>0</td>\n",
              "      <td>0</td>\n",
              "      <td>0</td>\n",
              "      <td>0</td>\n",
              "      <td>0</td>\n",
              "      <td>0</td>\n",
              "      <td>0</td>\n",
              "      <td>0</td>\n",
              "      <td>0</td>\n",
              "      <td>0</td>\n",
              "      <td>0</td>\n",
              "      <td>0</td>\n",
              "      <td>0</td>\n",
              "      <td>0</td>\n",
              "      <td>0</td>\n",
              "      <td>0</td>\n",
              "      <td>0</td>\n",
              "      <td>0</td>\n",
              "      <td>0</td>\n",
              "      <td>0</td>\n",
              "      <td>0</td>\n",
              "      <td>0</td>\n",
              "      <td>0</td>\n",
              "      <td>0</td>\n",
              "      <td>0</td>\n",
              "      <td>0</td>\n",
              "      <td>0</td>\n",
              "      <td>0</td>\n",
              "      <td>0</td>\n",
              "      <td>0</td>\n",
              "      <td>0</td>\n",
              "      <td>0</td>\n",
              "      <td>0</td>\n",
              "      <td>...</td>\n",
              "      <td>0</td>\n",
              "      <td>0</td>\n",
              "      <td>0</td>\n",
              "      <td>0</td>\n",
              "      <td>0</td>\n",
              "      <td>0</td>\n",
              "      <td>0</td>\n",
              "      <td>0</td>\n",
              "      <td>0</td>\n",
              "      <td>0</td>\n",
              "      <td>0</td>\n",
              "      <td>0</td>\n",
              "      <td>0</td>\n",
              "      <td>0</td>\n",
              "      <td>0</td>\n",
              "      <td>0</td>\n",
              "      <td>0</td>\n",
              "      <td>0</td>\n",
              "      <td>0</td>\n",
              "      <td>0</td>\n",
              "      <td>0</td>\n",
              "      <td>0</td>\n",
              "      <td>0</td>\n",
              "      <td>0</td>\n",
              "      <td>0</td>\n",
              "      <td>0</td>\n",
              "      <td>0</td>\n",
              "      <td>0</td>\n",
              "      <td>0</td>\n",
              "      <td>0</td>\n",
              "      <td>0</td>\n",
              "      <td>0</td>\n",
              "      <td>0</td>\n",
              "      <td>0</td>\n",
              "      <td>0</td>\n",
              "      <td>0</td>\n",
              "      <td>0</td>\n",
              "      <td>0</td>\n",
              "      <td>0</td>\n",
              "      <td>0</td>\n",
              "    </tr>\n",
              "  </tbody>\n",
              "</table>\n",
              "<p>6863 rows × 55168 columns</p>\n",
              "</div>"
            ],
            "text/plain": [
              "User-ID     8       9       10      14      ...  278846  278849  278851  278854\n",
              "ISBN                                        ...                                \n",
              "000649840X       0       0       0       0  ...       0       0       0       0\n",
              "0006547834       0       0       0       0  ...       0       0       0       0\n",
              "0006550576       0       0       0       0  ...       0       0       0       0\n",
              "0006550789       0       0       0       0  ...       0       0       0       0\n",
              "0007110928       0       0       0       0  ...       0       0       0       0\n",
              "...            ...     ...     ...     ...  ...     ...     ...     ...     ...\n",
              "8845205118       0       0       0       0  ...       0       0       0       0\n",
              "8845247414       0       0       0       0  ...       0       0       0       0\n",
              "884590184X       0       0       0       0  ...       0       0       0       0\n",
              "8885989403       0       0       0       0  ...       0       0       0       0\n",
              "950491036X       0       0       0       0  ...       0       0       0       0\n",
              "\n",
              "[6863 rows x 55168 columns]"
            ]
          },
          "metadata": {
            "tags": []
          },
          "execution_count": 21
        }
      ]
    },
    {
      "cell_type": "code",
      "metadata": {
        "id": "gF2ltJZEKZKL",
        "colab": {
          "base_uri": "https://localhost:8080/",
          "height": 180
        },
        "outputId": "8e2bc4e1-ef42-4f16-b972-0254e3cb0e17"
      },
      "source": [
        "# Change to sparse matrix if we didn't have enough memory\n",
        "matrix = csr_matrix(pd_matrix.values)"
      ],
      "execution_count": null,
      "outputs": [
        {
          "output_type": "error",
          "ename": "NameError",
          "evalue": "ignored",
          "traceback": [
            "\u001b[0;31m---------------------------------------------------------------------------\u001b[0m",
            "\u001b[0;31mNameError\u001b[0m                                 Traceback (most recent call last)",
            "\u001b[0;32m<ipython-input-1-38cc109c6e6f>\u001b[0m in \u001b[0;36m<module>\u001b[0;34m()\u001b[0m\n\u001b[1;32m      1\u001b[0m \u001b[0;31m# Change to sparse matrix if we didn't have enough memory\u001b[0m\u001b[0;34m\u001b[0m\u001b[0;34m\u001b[0m\u001b[0;34m\u001b[0m\u001b[0m\n\u001b[0;32m----> 2\u001b[0;31m \u001b[0mmatrix\u001b[0m \u001b[0;34m=\u001b[0m \u001b[0mcsr_matrix\u001b[0m\u001b[0;34m(\u001b[0m\u001b[0mpd_matrix\u001b[0m\u001b[0;34m.\u001b[0m\u001b[0mvalues\u001b[0m\u001b[0;34m)\u001b[0m\u001b[0;34m\u001b[0m\u001b[0;34m\u001b[0m\u001b[0m\n\u001b[0m",
            "\u001b[0;31mNameError\u001b[0m: name 'csr_matrix' is not defined"
          ]
        }
      ]
    },
    {
      "cell_type": "code",
      "metadata": {
        "id": "piChPfDpKZKM"
      },
      "source": [
        "# Create a model\n",
        "N_predicted_neighbours = 11\n",
        "KNN = NearestNeighbors(metric='cosine', n_neighbors=N_predicted_neighbours, n_jobs=-1)"
      ],
      "execution_count": null,
      "outputs": []
    },
    {
      "cell_type": "code",
      "metadata": {
        "colab": {
          "base_uri": "https://localhost:8080/"
        },
        "id": "dF3cnFq9KZKM",
        "outputId": "88c42f6b-4597-41a5-d0ed-d6a2147d29bc"
      },
      "source": [
        "# Fit the model\n",
        "KNN.fit(matrix)"
      ],
      "execution_count": null,
      "outputs": [
        {
          "output_type": "execute_result",
          "data": {
            "text/plain": [
              "NearestNeighbors(algorithm='auto', leaf_size=30, metric='cosine',\n",
              "                 metric_params=None, n_jobs=-1, n_neighbors=11, p=2,\n",
              "                 radius=1.0)"
            ]
          },
          "metadata": {
            "tags": []
          },
          "execution_count": 24
        }
      ]
    },
    {
      "cell_type": "code",
      "metadata": {
        "id": "F7vhErskKZKN"
      },
      "source": [
        "# Predict\n",
        "distances, indices = KNN.kneighbors(matrix)\n",
        "\n",
        "# Note that we do not have to split the data to train, valid and test, as we only need to compute distances between current data"
      ],
      "execution_count": null,
      "outputs": []
    },
    {
      "cell_type": "markdown",
      "metadata": {
        "id": "telXld40KZKN"
      },
      "source": [
        "\n",
        "\n",
        "```\n",
        "# This is formatted as code\n",
        "```\n",
        "\n",
        "## Harry Potter check"
      ]
    },
    {
      "cell_type": "code",
      "metadata": {
        "colab": {
          "base_uri": "https://localhost:8080/"
        },
        "id": "PnQ1231LKZKN",
        "outputId": "c99296fd-1785-40dd-84b3-d1e829863af7"
      },
      "source": [
        "print(\"Index of first Harry Potter book is:\", np.where(pd_matrix.index==\"059035342X\")[0][0])"
      ],
      "execution_count": null,
      "outputs": [
        {
          "output_type": "stream",
          "text": [
            "Index of first Harry Potter book is: 4865\n"
          ],
          "name": "stdout"
        }
      ]
    },
    {
      "cell_type": "code",
      "metadata": {
        "id": "2XER9TFbKZKN"
      },
      "source": [
        "selected_index = 4865"
      ],
      "execution_count": null,
      "outputs": []
    },
    {
      "cell_type": "code",
      "metadata": {
        "colab": {
          "base_uri": "https://localhost:8080/",
          "height": 35
        },
        "id": "G1vrDbmSKZKN",
        "outputId": "7346d2ac-98b8-4261-b4c7-b18a6a39e16e"
      },
      "source": [
        "# Just check it once again\n",
        "books.loc[books[\"ISBN\"] == pd_matrix.index[selected_index], \"Title\"].values[0]"
      ],
      "execution_count": null,
      "outputs": [
        {
          "output_type": "execute_result",
          "data": {
            "application/vnd.google.colaboratory.intrinsic+json": {
              "type": "string"
            },
            "text/plain": [
              "\"Harry Potter and the Sorcerer's Stone (Harry Potter (Paperback))\""
            ]
          },
          "metadata": {
            "tags": []
          },
          "execution_count": 28
        }
      ]
    },
    {
      "cell_type": "code",
      "metadata": {
        "colab": {
          "base_uri": "https://localhost:8080/"
        },
        "id": "Ma0LFcDMKZKO",
        "outputId": "02b29fd4-220e-4f9d-ab8f-952952623bbd"
      },
      "source": [
        "# Predictions\n",
        "\n",
        "print(f\"Because you liked {books.loc[books['ISBN'] == pd_matrix.index[indices[4865][0]], 'Title'].values[0]} you may like:\")\n",
        "print()\n",
        "for i in range(1, N_predicted_neighbours):\n",
        "    print(f\"{books.loc[books['ISBN'] == pd_matrix.index[indices[4865][i]], 'Title'].values[0]} with distance {distances[4865][i]:.3f}.\")"
      ],
      "execution_count": null,
      "outputs": [
        {
          "output_type": "stream",
          "text": [
            "Because you liked Harry Potter and the Sorcerer's Stone (Harry Potter (Paperback)) you may like:\n",
            "\n",
            "Harry Potter and the Chamber of Secrets (Book 2) with distance 0.701.\n",
            "Harry Potter and the Prisoner of Azkaban (Book 3) with distance 0.760.\n",
            "Harry Potter and the Goblet of Fire (Book 4) with distance 0.828.\n",
            "Harry Potter and the Goblet of Fire (Book 4) with distance 0.838.\n",
            "Harry Potter and the Order of the Phoenix (Book 5) with distance 0.852.\n",
            "Harry Potter and the Prisoner of Azkaban (Book 3) with distance 0.869.\n",
            "Harry Potter and the Chamber of Secrets (Book 2) with distance 0.875.\n",
            "The Lost King (Star of the Guardians, Vol 1) with distance 0.902.\n",
            "Fried Green Tomatoes at the Whistle Stop Cafe with distance 0.904.\n",
            "Love Story with distance 0.911.\n"
          ],
          "name": "stdout"
        }
      ]
    },
    {
      "cell_type": "markdown",
      "metadata": {
        "id": "JeyVJX8CKZKO"
      },
      "source": [
        "Awesome! I was recommended other books in the series when I read the first book and liked it. \n",
        "\n",
        "However, there is the problem I noticed earlier, that I am recommended the same book multiple times just because the model recommends editions not books.\n",
        "\n",
        "Lets wrap it up and create a recommender function."
      ]
    },
    {
      "cell_type": "code",
      "metadata": {
        "id": "0zvitpctKZKO"
      },
      "source": [
        "def recommend_similar_book(isbn, indices, ratings_matrix, books_table, N_recommendations=1, distances=None):\n",
        "    \"\"\"\n",
        "    Recommends a book title.\n",
        "    \n",
        "    Parameters\n",
        "    ----------\n",
        "    ISBN: str\n",
        "        ISBN of a book a user liked\n",
        "    indices: np.array\n",
        "        indices of ratings_matrix as predicted by KNN\n",
        "    ratings_matrix: pd.DataFrame\n",
        "        user-book-rating matrix with ratings as values\n",
        "    N_recommendations: int (default 1)\n",
        "        How many books to recommend?\n",
        "    distances: np.array\n",
        "        How distant are books from each other by KNN?\n",
        "    \"\"\"\n",
        "    # TODO: This should be rather split in separate variables, this reads terribly\n",
        "    print(f\"Because you liked {books_table.loc[books_table['ISBN'] == ratings_matrix.index[indices[isbn][0]], 'Title'].values[0]} you may like:\")\n",
        "    print()\n",
        "    for i in range(1, 1+N_recommendations):\n",
        "        if distances:\n",
        "            print(f\"{books_table.loc[books_table['ISBN'] == ratings_matrix.index[indices[isbn][i]], 'Title'].values[0]} with distance {distances[isbn][i]:.3f}.\")\n",
        "        else:\n",
        "            print(f\"{books_table.loc[books_table['ISBN'] == ratings_matrix.index[indices[isbn][i]], 'Title'].values[0]}.\")"
      ],
      "execution_count": null,
      "outputs": []
    },
    {
      "cell_type": "code",
      "metadata": {
        "colab": {
          "base_uri": "https://localhost:8080/"
        },
        "id": "MSwLkTUfKZKP",
        "outputId": "afdd279d-3d1d-4ae5-97a7-97413612f1b4"
      },
      "source": [
        "recommend_similar_book(4865, indices, pd_matrix, books)"
      ],
      "execution_count": null,
      "outputs": [
        {
          "output_type": "stream",
          "text": [
            "Because you liked Harry Potter and the Sorcerer's Stone (Harry Potter (Paperback)) you may like:\n",
            "\n",
            "Harry Potter and the Chamber of Secrets (Book 2).\n"
          ],
          "name": "stdout"
        }
      ]
    },
    {
      "cell_type": "markdown",
      "metadata": {
        "id": "mPSzdxyqKZKP"
      },
      "source": [
        "# KNN model - recommend similar user's favourite book\n",
        "\n",
        "Find the most similar user and recommend his top rated books that the current user have not read yet."
      ]
    },
    {
      "cell_type": "markdown",
      "metadata": {
        "id": "eGKmQ4xNKZKP"
      },
      "source": [
        "Lets first prepare data for testing a model. For every user add how many Harry Potter books did they read and what is their average rating. Using KNN the distance between users who liked the series should be low, whereas the distance between users who did like it and those who did not like it should be higher."
      ]
    },
    {
      "cell_type": "code",
      "metadata": {
        "id": "4G1mg1yKKZKP"
      },
      "source": [
        "harry_potter_isbns = books.loc[books[\"Title\"].str.contains(\"Harry Potter\") & books[\"Author\"].str.contains(\"Rowling\"), \"ISBN\"].values\n",
        "harry_potter_ratings = ratings.loc[ratings[\"ISBN\"].isin(harry_potter_isbns)]"
      ],
      "execution_count": null,
      "outputs": []
    },
    {
      "cell_type": "code",
      "metadata": {
        "id": "P68bu1bHKZKQ"
      },
      "source": [
        "# Group by and create new features\n",
        "user_groupby = harry_potter_ratings.groupby(\"User-ID\")\n",
        "average_user_rating = user_groupby[\"Rating\"].mean()\n",
        "number_of_ratings_by_user = user_groupby[\"Rating\"].count()\n",
        "\n",
        "average_user_rating.name = \"HP_avg_rating\"\n",
        "number_of_ratings_by_user.name = \"HP_N_ratings\""
      ],
      "execution_count": null,
      "outputs": []
    },
    {
      "cell_type": "code",
      "metadata": {
        "id": "EAkH7UX2KZKQ"
      },
      "source": [
        "# Merge with the main dataframe\n",
        "users = users.join(number_of_ratings_by_user, on=\"User-ID\")\n",
        "users = users.join(average_user_rating, on=\"User-ID\")\n",
        "\n",
        "users[\"N_ratings\"] = users[\"N_ratings\"].fillna(0)\n",
        "\n",
        "users[\"N_ratings\"] = users[\"N_ratings\"].astype(\"int64\")"
      ],
      "execution_count": null,
      "outputs": []
    },
    {
      "cell_type": "code",
      "metadata": {
        "colab": {
          "base_uri": "https://localhost:8080/",
          "height": 297
        },
        "id": "C4R28oz2KZKQ",
        "outputId": "d0cf16bd-00c1-4eae-c0ae-8b96d131af5f"
      },
      "source": [
        "# Get some statistics for those users who have read at least one book from the HP series\n",
        "users.loc[users[\"HP_N_ratings\"].gt(0)].describe()"
      ],
      "execution_count": null,
      "outputs": [
        {
          "output_type": "execute_result",
          "data": {
            "text/html": [
              "<div>\n",
              "<style scoped>\n",
              "    .dataframe tbody tr th:only-of-type {\n",
              "        vertical-align: middle;\n",
              "    }\n",
              "\n",
              "    .dataframe tbody tr th {\n",
              "        vertical-align: top;\n",
              "    }\n",
              "\n",
              "    .dataframe thead th {\n",
              "        text-align: right;\n",
              "    }\n",
              "</style>\n",
              "<table border=\"1\" class=\"dataframe\">\n",
              "  <thead>\n",
              "    <tr style=\"text-align: right;\">\n",
              "      <th></th>\n",
              "      <th>N_ratings</th>\n",
              "      <th>avg_rating</th>\n",
              "      <th>HP_N_ratings</th>\n",
              "      <th>HP_avg_rating</th>\n",
              "    </tr>\n",
              "  </thead>\n",
              "  <tbody>\n",
              "    <tr>\n",
              "      <th>count</th>\n",
              "      <td>1494.000000</td>\n",
              "      <td>1494.000000</td>\n",
              "      <td>1494.000000</td>\n",
              "      <td>1494.000000</td>\n",
              "    </tr>\n",
              "    <tr>\n",
              "      <th>mean</th>\n",
              "      <td>201.074297</td>\n",
              "      <td>3.916865</td>\n",
              "      <td>1.855422</td>\n",
              "      <td>5.064660</td>\n",
              "    </tr>\n",
              "    <tr>\n",
              "      <th>std</th>\n",
              "      <td>585.361399</td>\n",
              "      <td>2.708143</td>\n",
              "      <td>1.436947</td>\n",
              "      <td>4.250286</td>\n",
              "    </tr>\n",
              "    <tr>\n",
              "      <th>min</th>\n",
              "      <td>1.000000</td>\n",
              "      <td>0.000000</td>\n",
              "      <td>1.000000</td>\n",
              "      <td>0.000000</td>\n",
              "    </tr>\n",
              "    <tr>\n",
              "      <th>25%</th>\n",
              "      <td>7.000000</td>\n",
              "      <td>1.802073</td>\n",
              "      <td>1.000000</td>\n",
              "      <td>0.000000</td>\n",
              "    </tr>\n",
              "    <tr>\n",
              "      <th>50%</th>\n",
              "      <td>38.000000</td>\n",
              "      <td>3.486100</td>\n",
              "      <td>1.000000</td>\n",
              "      <td>6.000000</td>\n",
              "    </tr>\n",
              "    <tr>\n",
              "      <th>75%</th>\n",
              "      <td>163.750000</td>\n",
              "      <td>5.642787</td>\n",
              "      <td>2.000000</td>\n",
              "      <td>9.000000</td>\n",
              "    </tr>\n",
              "    <tr>\n",
              "      <th>max</th>\n",
              "      <td>13602.000000</td>\n",
              "      <td>10.000000</td>\n",
              "      <td>17.000000</td>\n",
              "      <td>10.000000</td>\n",
              "    </tr>\n",
              "  </tbody>\n",
              "</table>\n",
              "</div>"
            ],
            "text/plain": [
              "          N_ratings   avg_rating  HP_N_ratings  HP_avg_rating\n",
              "count   1494.000000  1494.000000   1494.000000    1494.000000\n",
              "mean     201.074297     3.916865      1.855422       5.064660\n",
              "std      585.361399     2.708143      1.436947       4.250286\n",
              "min        1.000000     0.000000      1.000000       0.000000\n",
              "25%        7.000000     1.802073      1.000000       0.000000\n",
              "50%       38.000000     3.486100      1.000000       6.000000\n",
              "75%      163.750000     5.642787      2.000000       9.000000\n",
              "max    13602.000000    10.000000     17.000000      10.000000"
            ]
          },
          "metadata": {
            "tags": []
          },
          "execution_count": 37
        }
      ]
    },
    {
      "cell_type": "markdown",
      "metadata": {
        "id": "jrWqaH0UKZKQ"
      },
      "source": [
        "Hmmm, there are people who read more than 7 different editions, so my earlier guess that people probably read max 7 editions (1 per book in series) is not true.\n",
        "\n",
        "Given that the average rating is 5 out of 10, there are probably two groups of people, those who really like it and those who do not like it. Lets visualize it!"
      ]
    },
    {
      "cell_type": "code",
      "metadata": {
        "_kg_hide-input": true,
        "colab": {
          "base_uri": "https://localhost:8080/",
          "height": 544
        },
        "id": "FbcJlPGRKZKR",
        "outputId": "56da19b9-b1d9-430d-9b66-fd109040d63f"
      },
      "source": [
        "plt.figure()\n",
        "# sns.distplot(users.loc[users[\"HP_N_ratings\"].gt(0)][\"HP_avg_rating\"], bins=[0, 1, 2, 3, 4, 5, 6, 7, 8, 9, 10, 11])\n",
        "bins = np.array([0, 1, 2, 3, 4, 5, 6, 7, 8, 9, 10, 11]) - 0.5\n",
        "n, bins, patches = plt.hist(users.loc[users[\"HP_N_ratings\"].gt(0), \"HP_avg_rating\"], bins=bins)\n",
        "cm = plt.cm.get_cmap('RdYlGn')\n",
        "bin_centers = 0.5 * (bins[:-1] + bins[1:])\n",
        "# scale values to interval [0,1]\n",
        "col = bin_centers - min(bin_centers)\n",
        "col /= max(col)\n",
        "for c, p in zip(col, patches):\n",
        "    plt.setp(p, 'facecolor', cm(c))\n",
        "plt.title(\"Ratings of Harry Potter books\")\n",
        "plt.xlabel(\"Number of stars\")\n",
        "plt.ylabel(\"Number of ratings\")\n",
        "plt.show()"
      ],
      "execution_count": null,
      "outputs": [
        {
          "output_type": "display_data",
          "data": {
            "image/png": "[encoded data removed]",
            "text/plain": [
              "<Figure size 1008x576 with 1 Axes>"
            ]
          },
          "metadata": {
            "tags": []
          }
        }
      ]
    },
    {
      "cell_type": "markdown",
      "metadata": {
        "id": "ljSktrqKKZKR"
      },
      "source": [
        "Well... I didn't expect that there will be so many so negative ratings, but lets continue and find out a few persons who read the whole series and didn't like it (if there are any, else take someone who read at least two books and did not like it) and people who liked it. Then we will have some people to test the next model on."
      ]
    },
    {
      "cell_type": "code",
      "metadata": {
        "colab": {
          "base_uri": "https://localhost:8080/",
          "height": 297
        },
        "id": "66r0uk22KZKR",
        "outputId": "86daa798-62d5-41a5-e7f1-c9d30b89da16"
      },
      "source": [
        "# Get users who read seven books of the series\n",
        "users.loc[users[\"HP_N_ratings\"]==7]\n",
        "\n",
        "# Note that this selection does not have to mean, they have read all parts of the series, just that they rated seven editions.\n",
        "# Nevertheless, as first testing data, it is probably OK."
      ],
      "execution_count": null,
      "outputs": [
        {
          "output_type": "execute_result",
          "data": {
            "text/html": [
              "<div>\n",
              "<style scoped>\n",
              "    .dataframe tbody tr th:only-of-type {\n",
              "        vertical-align: middle;\n",
              "    }\n",
              "\n",
              "    .dataframe tbody tr th {\n",
              "        vertical-align: top;\n",
              "    }\n",
              "\n",
              "    .dataframe thead th {\n",
              "        text-align: right;\n",
              "    }\n",
              "</style>\n",
              "<table border=\"1\" class=\"dataframe\">\n",
              "  <thead>\n",
              "    <tr style=\"text-align: right;\">\n",
              "      <th></th>\n",
              "      <th>User-ID</th>\n",
              "      <th>Age</th>\n",
              "      <th>N_ratings</th>\n",
              "      <th>avg_rating</th>\n",
              "      <th>HP_N_ratings</th>\n",
              "      <th>HP_avg_rating</th>\n",
              "    </tr>\n",
              "  </thead>\n",
              "  <tbody>\n",
              "    <tr>\n",
              "      <th>253</th>\n",
              "      <td>254</td>\n",
              "      <td>24</td>\n",
              "      <td>314</td>\n",
              "      <td>1.436306</td>\n",
              "      <td>7.0</td>\n",
              "      <td>7.714286</td>\n",
              "    </tr>\n",
              "    <tr>\n",
              "      <th>28522</th>\n",
              "      <td>28523</td>\n",
              "      <td>24</td>\n",
              "      <td>397</td>\n",
              "      <td>1.224181</td>\n",
              "      <td>7.0</td>\n",
              "      <td>4.285714</td>\n",
              "    </tr>\n",
              "    <tr>\n",
              "      <th>30734</th>\n",
              "      <td>30735</td>\n",
              "      <td>NaN</td>\n",
              "      <td>284</td>\n",
              "      <td>5.887324</td>\n",
              "      <td>7.0</td>\n",
              "      <td>9.571429</td>\n",
              "    </tr>\n",
              "    <tr>\n",
              "      <th>88732</th>\n",
              "      <td>88733</td>\n",
              "      <td>NaN</td>\n",
              "      <td>1158</td>\n",
              "      <td>3.395509</td>\n",
              "      <td>7.0</td>\n",
              "      <td>9.428571</td>\n",
              "    </tr>\n",
              "    <tr>\n",
              "      <th>175002</th>\n",
              "      <td>175003</td>\n",
              "      <td>33</td>\n",
              "      <td>1670</td>\n",
              "      <td>0.203593</td>\n",
              "      <td>7.0</td>\n",
              "      <td>10.000000</td>\n",
              "    </tr>\n",
              "    <tr>\n",
              "      <th>185232</th>\n",
              "      <td>185233</td>\n",
              "      <td>31</td>\n",
              "      <td>2448</td>\n",
              "      <td>1.524918</td>\n",
              "      <td>7.0</td>\n",
              "      <td>1.428571</td>\n",
              "    </tr>\n",
              "    <tr>\n",
              "      <th>203074</th>\n",
              "      <td>203075</td>\n",
              "      <td>23</td>\n",
              "      <td>161</td>\n",
              "      <td>2.652174</td>\n",
              "      <td>7.0</td>\n",
              "      <td>8.428571</td>\n",
              "    </tr>\n",
              "    <tr>\n",
              "      <th>211425</th>\n",
              "      <td>211426</td>\n",
              "      <td>24</td>\n",
              "      <td>978</td>\n",
              "      <td>1.003067</td>\n",
              "      <td>7.0</td>\n",
              "      <td>4.285714</td>\n",
              "    </tr>\n",
              "  </tbody>\n",
              "</table>\n",
              "</div>"
            ],
            "text/plain": [
              "       User-ID  Age  N_ratings  avg_rating  HP_N_ratings  HP_avg_rating\n",
              "253        254   24        314    1.436306           7.0       7.714286\n",
              "28522    28523   24        397    1.224181           7.0       4.285714\n",
              "30734    30735  NaN        284    5.887324           7.0       9.571429\n",
              "88732    88733  NaN       1158    3.395509           7.0       9.428571\n",
              "175002  175003   33       1670    0.203593           7.0      10.000000\n",
              "185232  185233   31       2448    1.524918           7.0       1.428571\n",
              "203074  203075   23        161    2.652174           7.0       8.428571\n",
              "211425  211426   24        978    1.003067           7.0       4.285714"
            ]
          },
          "metadata": {
            "tags": []
          },
          "execution_count": 39
        }
      ]
    },
    {
      "cell_type": "markdown",
      "metadata": {
        "id": "v7gGWB1MKZKS"
      },
      "source": [
        "Awesome, those are exactly people we need. There is one hater, who rated every book, but gave very low rating to each one (I wonder if he had actually read the series or he may also did not understand the rating system), there is only one person who read everything and gave 10 starts to each book and finally there are people who liked it and some who did not."
      ]
    },
    {
      "cell_type": "code",
      "metadata": {
        "_kg_hide-input": true,
        "_kg_hide-output": true,
        "id": "F_T1VljIKZKS"
      },
      "source": [
        "# Transform User-ID to the index in our user-book-rating matrix\n",
        "selected_matrix_indices = [pd_matrix.columns.get_loc(user_ID) for user_ID in users.loc[users[\"HP_N_ratings\"]==7].sort_values(by=\"HP_avg_rating\", ascending=False)[\"User-ID\"].values]"
      ],
      "execution_count": null,
      "outputs": []
    },
    {
      "cell_type": "code",
      "metadata": {
        "_kg_hide-input": true,
        "_kg_hide-output": true,
        "id": "RxZAWWpLKZKS"
      },
      "source": [
        "KNN3 = NearestNeighbors(metric='cosine', n_neighbors=8, n_jobs=-1)"
      ],
      "execution_count": null,
      "outputs": []
    },
    {
      "cell_type": "code",
      "metadata": {
        "_kg_hide-input": true,
        "_kg_hide-output": true,
        "colab": {
          "base_uri": "https://localhost:8080/"
        },
        "id": "cChK0DhoKZKS",
        "outputId": "79c2b1a9-104d-4358-8cc5-82fa31c03370"
      },
      "source": [
        "KNN3.fit(matrix.T[np.ix_(selected_matrix_indices)])"
      ],
      "execution_count": null,
      "outputs": [
        {
          "output_type": "execute_result",
          "data": {
            "text/plain": [
              "NearestNeighbors(algorithm='auto', leaf_size=30, metric='cosine',\n",
              "                 metric_params=None, n_jobs=-1, n_neighbors=8, p=2, radius=1.0)"
            ]
          },
          "metadata": {
            "tags": []
          },
          "execution_count": 42
        }
      ]
    },
    {
      "cell_type": "code",
      "metadata": {
        "_kg_hide-input": true,
        "_kg_hide-output": true,
        "id": "CDeW1cENKZKT"
      },
      "source": [
        "distances3, indices3 = KNN3.kneighbors(matrix.T[np.ix_(selected_matrix_indices)])"
      ],
      "execution_count": null,
      "outputs": []
    },
    {
      "cell_type": "code",
      "metadata": {
        "_kg_hide-input": true,
        "_kg_hide-output": true,
        "id": "2RkKpq5GKZKT"
      },
      "source": [
        "ind = np.argsort(indices3, axis=1)"
      ],
      "execution_count": null,
      "outputs": []
    },
    {
      "cell_type": "code",
      "metadata": {
        "_kg_hide-input": true,
        "_kg_hide-output": true,
        "id": "YZK8Qm77KZKT"
      },
      "source": [
        "sorted_distances = np.take_along_axis(distances3, ind, axis=1)"
      ],
      "execution_count": null,
      "outputs": []
    },
    {
      "cell_type": "code",
      "metadata": {
        "_kg_hide-input": true,
        "colab": {
          "base_uri": "https://localhost:8080/",
          "height": 564
        },
        "id": "FJWp2-7kKZKT",
        "outputId": "be80e138-97c7-4fd6-f7bc-0ab1312cdf48"
      },
      "source": [
        "plt.figure()\n",
        "ax = sns.heatmap(sorted_distances, linewidth=0.5, cmap=\"viridis\")\n",
        "plt.title(\"Distances between users; darker = closer\")\n",
        "plt.show()"
      ],
      "execution_count": null,
      "outputs": [
        {
          "output_type": "display_data",
          "data": {
            "image/png": "[encoded data removed]",
            "text/plain": [
              "<Figure size 1008x576 with 2 Axes>"
            ]
          },
          "metadata": {
            "tags": []
          }
        }
      ]
    },
    {
      "cell_type": "markdown",
      "metadata": {
        "id": "7fJDoDOqKZKT"
      },
      "source": [
        "This obviously works as well as the last user (who did not like Harry Potter) is the furthest from all other users.\n",
        "\n",
        "These distances were computed only for eight users, they will be different in reality."
      ]
    },
    {
      "cell_type": "code",
      "metadata": {
        "id": "NMPOyNkCKZKT"
      },
      "source": [
        "# Create a model\n",
        "KNN2 = NearestNeighbors(metric='cosine', n_neighbors=20, n_jobs=-1)"
      ],
      "execution_count": null,
      "outputs": []
    },
    {
      "cell_type": "code",
      "metadata": {
        "colab": {
          "base_uri": "https://localhost:8080/"
        },
        "id": "HdU5ddNRKZKU",
        "outputId": "803e2626-39ec-4a4b-e94f-197d49d7f633"
      },
      "source": [
        "# Fit\n",
        "KNN2.fit(matrix.T)"
      ],
      "execution_count": null,
      "outputs": [
        {
          "output_type": "execute_result",
          "data": {
            "text/plain": [
              "NearestNeighbors(algorithm='auto', leaf_size=30, metric='cosine',\n",
              "                 metric_params=None, n_jobs=-1, n_neighbors=20, p=2,\n",
              "                 radius=1.0)"
            ]
          },
          "metadata": {
            "tags": []
          },
          "execution_count": 48
        }
      ]
    },
    {
      "cell_type": "code",
      "metadata": {
        "id": "QXAqAhvCKZKU"
      },
      "source": [
        "# Predict\n",
        "distances2, indices2 = KNN2.kneighbors(matrix.T)"
      ],
      "execution_count": null,
      "outputs": []
    },
    {
      "cell_type": "code",
      "metadata": {
        "colab": {
          "base_uri": "https://localhost:8080/"
        },
        "id": "45M9MiLRKZKU",
        "outputId": "8b8e62ea-e914-47fb-9cd7-2d3995656d12"
      },
      "source": [
        "# Transform User-ID to the index in our user-book-rating matrix\n",
        "pd_matrix.columns.get_loc(175003)"
      ],
      "execution_count": null,
      "outputs": [
        {
          "output_type": "execute_result",
          "data": {
            "text/plain": [
              "34620"
            ]
          },
          "metadata": {
            "tags": []
          },
          "execution_count": 52
        }
      ]
    },
    {
      "cell_type": "code",
      "metadata": {
        "colab": {
          "base_uri": "https://localhost:8080/"
        },
        "id": "iHxFcf6bKZKU",
        "outputId": "1da12643-c3e8-4ef2-c1d4-224edec8c0a9"
      },
      "source": [
        "# Get most similar users\n",
        "indices2[34620]"
      ],
      "execution_count": null,
      "outputs": [
        {
          "output_type": "execute_result",
          "data": {
            "text/plain": [
              "array([34620, 50133, 45485, 54490, 54030, 21293, 47528, 11514, 37370,\n",
              "       50365, 48620, 42004, 36599,  1180, 16868, 33699, 33372, 37530,\n",
              "         876, 36099])"
            ]
          },
          "metadata": {
            "tags": []
          },
          "execution_count": 53
        }
      ]
    },
    {
      "cell_type": "code",
      "metadata": {
        "colab": {
          "base_uri": "https://localhost:8080/"
        },
        "id": "7uVGKNrfKZKU",
        "outputId": "7d072387-70b4-4f3e-d2d8-e0ac0a07b01b"
      },
      "source": [
        "# Transform back and get User-ID of nearest neighbor\n",
        "pd_matrix.columns[50133]"
      ],
      "execution_count": null,
      "outputs": [
        {
          "output_type": "execute_result",
          "data": {
            "text/plain": [
              "252829"
            ]
          },
          "metadata": {
            "tags": []
          },
          "execution_count": 54
        }
      ]
    },
    {
      "cell_type": "code",
      "metadata": {
        "colab": {
          "base_uri": "https://localhost:8080/",
          "height": 80
        },
        "id": "Mjw8XLB8KZKV",
        "outputId": "6da12fe1-e677-424d-c4b9-77f28c820b81"
      },
      "source": [
        "users.loc[users[\"User-ID\"] == 252829]"
      ],
      "execution_count": null,
      "outputs": [
        {
          "output_type": "execute_result",
          "data": {
            "text/html": [
              "<div>\n",
              "<style scoped>\n",
              "    .dataframe tbody tr th:only-of-type {\n",
              "        vertical-align: middle;\n",
              "    }\n",
              "\n",
              "    .dataframe tbody tr th {\n",
              "        vertical-align: top;\n",
              "    }\n",
              "\n",
              "    .dataframe thead th {\n",
              "        text-align: right;\n",
              "    }\n",
              "</style>\n",
              "<table border=\"1\" class=\"dataframe\">\n",
              "  <thead>\n",
              "    <tr style=\"text-align: right;\">\n",
              "      <th></th>\n",
              "      <th>User-ID</th>\n",
              "      <th>Age</th>\n",
              "      <th>N_ratings</th>\n",
              "      <th>avg_rating</th>\n",
              "      <th>HP_N_ratings</th>\n",
              "      <th>HP_avg_rating</th>\n",
              "    </tr>\n",
              "  </thead>\n",
              "  <tbody>\n",
              "    <tr>\n",
              "      <th>252828</th>\n",
              "      <td>252829</td>\n",
              "      <td>18</td>\n",
              "      <td>10</td>\n",
              "      <td>10.0</td>\n",
              "      <td>9.0</td>\n",
              "      <td>10.0</td>\n",
              "    </tr>\n",
              "  </tbody>\n",
              "</table>\n",
              "</div>"
            ],
            "text/plain": [
              "       User-ID Age  N_ratings  avg_rating  HP_N_ratings  HP_avg_rating\n",
              "252828  252829  18         10        10.0           9.0           10.0"
            ]
          },
          "metadata": {
            "tags": []
          },
          "execution_count": 55
        }
      ]
    },
    {
      "cell_type": "markdown",
      "metadata": {
        "id": "cQm0znz2KZKV"
      },
      "source": [
        "Great, the most similar user to our Harry Potter lover is another user who rated more editions than there is HP books with 10 stars. This shows that the model is working, but the problem with edition still persists. If we recommend a favourite book of the most similar user, specifically for this one, it will probably be another HP edition."
      ]
    },
    {
      "cell_type": "code",
      "metadata": {
        "id": "K8FWrQDIKZKV"
      },
      "source": [
        "def recommend_favourite_book_of_similar_user(userID, indices, ratings_matrix, users_table, books_table, ratings_table, N_recommendations=1, distances=None):\n",
        "    \"\"\"\n",
        "    Recommends a book title based on favourite books of ten most similar users.\n",
        "    \n",
        "    The order of books is following:\n",
        "    Take the most similar user, sort his books by rating,\n",
        "    exclude everything the current predicted user already read.\n",
        "    Output books one by one.\n",
        "    If there is only a few books from the most similar user and\n",
        "    we run out of books, take next similar user and output\n",
        "    his favorite books in a similar fashion.\n",
        "    \n",
        "    Parameters\n",
        "    ----------\n",
        "    userID: int\n",
        "        ID of a user we want a recommendation for\n",
        "    indices: np.array\n",
        "        indices of ratings_matrix as predicted by KNN\n",
        "    ratings_matrix: pd.DataFrame\n",
        "        user-book-rating matrix with ratings as values\n",
        "    users_table: pd.DataFrame\n",
        "        Information about users\n",
        "    books_table: pd.DataFrame\n",
        "        Information about books\n",
        "    ratings_table: pd.DataFrame\n",
        "        Information about ratings\n",
        "    N_recommendations: int (default 1)\n",
        "        How many books to recommend?\n",
        "    distances: np.array\n",
        "        How distant are books from each other by KNN?\n",
        "    \"\"\"\n",
        "    selected_index = ratings_matrix.columns.get_loc(userID)\n",
        "    already_read_book_isbns = list(ratings_table.loc[ratings_table[\"User-ID\"] == userID, \"ISBN\"].values)\n",
        "    not_read_books = ratings_table.loc[~ratings_table[\"ISBN\"].isin(already_read_book_isbns)]\n",
        "    books_to_recommend = list()\n",
        "    for i in range(1,10):\n",
        "        similar_user_index = indices[selected_index][i]\n",
        "        similar_user_ID = ratings_matrix.columns[similar_user_index]\n",
        "        possible_to_recommend = not_read_books.loc[not_read_books[\"User-ID\"] == similar_user_ID]\n",
        "        possible_to_recommend = possible_to_recommend.sort_values(by=\"Rating\", ascending=False)\n",
        "        for a, row in possible_to_recommend.iterrows():\n",
        "            books_to_recommend.append(books_table.loc[books[\"ISBN\"] == row[\"ISBN\"], \"Title\"].values[0])\n",
        "            if len(books_to_recommend) > N_recommendations-1:\n",
        "                break\n",
        "        if len(books_to_recommend) > N_recommendations-1:\n",
        "            break\n",
        "    print(f\"Based on users who like similar books as you, you may like:\")\n",
        "    print()\n",
        "    for book_name in books_to_recommend:\n",
        "        print(book_name)"
      ],
      "execution_count": null,
      "outputs": []
    },
    {
      "cell_type": "code",
      "metadata": {
        "colab": {
          "base_uri": "https://localhost:8080/"
        },
        "id": "A3hL2miKKZKY",
        "outputId": "01785c2a-6e2e-4af9-ef0d-b96d7e8639da"
      },
      "source": [
        "recommend_favourite_book_of_similar_user(175003, indices2, pd_matrix, users, books, ratings, N_recommendations=3, distances=distances2)"
      ],
      "execution_count": null,
      "outputs": [
        {
          "output_type": "stream",
          "text": [
            "Based on users who like similar books as you, you may like:\n",
            "\n",
            "Harry Potter and the Chamber of Secrets (Book 2)\n",
            "Harry Potter and the Prisoner of Azkaban (Book 3)\n",
            "Ultimate Unofficial Guide to the Mysteries of Harry Potter\n"
          ],
          "name": "stdout"
        }
      ]
    },
    {
      "cell_type": "markdown",
      "metadata": {
        "id": "BRG3clOsKZKY"
      },
      "source": [
        ""
      ]
    },
    {
      "cell_type": "markdown",
      "metadata": {
        "id": "s6JCFfQCKZKY"
      },
      "source": [
        "# Types of recommendations\n",
        "\n",
        "- Recommend similar book to a book a user rated high\n",
        "- Recommend a book rated highly by a similar user (or a group of similar users)\n",
        "- Recommend a book of a user's highly rated author (if someone likes Pratchett, they will probably like almost all of his books)\n",
        "- Recommend the topmost highly rated book from all books that user did not read\n",
        "- Recommend a random book (I guess that some people just do not like to decide and this can be used to collect data about book almost nobody reads)"
      ]
    },
    {
      "cell_type": "markdown",
      "metadata": {
        "id": "5hjVeaQ4KZKY"
      },
      "source": [
        "# What would be ideal\n",
        "\n",
        "## Additional data possible to mine\n",
        "Goodreads has an [API](https://www.goodreads.com/api) which is possible to use to get more features. Number of ratings and average rating should definitely be more informative feature than from the current dataset. Goodreads also specifies what genre a book is and also allows users to hashtag any book with any hashtag. These hashtag could also serve as additional info about books if they are properly grouped.\n",
        "\n",
        "Goodreads features:\n",
        "- Number of ratings\n",
        "- Average rating\n",
        "- Number of stars (it is different if a book always get 3 stars from everybody or if it gets fives and ones)\n",
        "- How many times was the page with the book visited?\n",
        "- Number of pages\n",
        "- Average reading time\n",
        "- Genre\n",
        "- Is part of series? How many books does the series have? What is the number of the book in series?\n",
        "- Hashtag groups\n",
        "- How many books did the author write?\n",
        "- Is the author popular? (number of followers)\n",
        "- Number of editions\n",
        "- Number of translations \n",
        "\n",
        "## Additional ideal data\n",
        "Ask user what kind of books do they like; ideally have a page with sliders for different kind of books (sci-fi, romance...). Perhaps ask them what kind of book would they want to read next. They could also check a type of recommendations. \n",
        "\n",
        "Ideal additional features:\n",
        "- How much does the user like sci-fi/romance..."
      ]
    },
    {
      "cell_type": "markdown",
      "metadata": {
        "id": "igLZDoJLKZKY"
      },
      "source": [
        "# Possible models\n",
        "\n",
        "With additional features listed above the most transparent model would be lightGBM or a different regression forest as it can output the importance of features. I would guess that a neural network where user and book features are encoded separately would give better results. I would find interesting using a RNN or different NN with memory as the reader's taste changes and it does not make sense to base predictions on books read twenty years ago."
      ]
    }
  ]
}